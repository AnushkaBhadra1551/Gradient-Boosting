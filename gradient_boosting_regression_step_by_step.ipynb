{
  "nbformat": 4,
  "nbformat_minor": 0,
  "metadata": {
    "colab": {
      "name": "gradient-boosting-regression-step-by-step.ipynb",
      "provenance": [],
      "collapsed_sections": []
    },
    "kernelspec": {
      "name": "python3",
      "display_name": "Python 3"
    },
    "language_info": {
      "name": "python"
    }
  },
  "cells": [
    {
      "cell_type": "code",
      "metadata": {
        "id": "nXGeKWwzb7IQ"
      },
      "source": [
        "import numpy as np\n",
        "import pandas as pd\n",
        "import matplotlib.pyplot as plt"
      ],
      "execution_count": 20,
      "outputs": []
    },
    {
      "cell_type": "code",
      "metadata": {
        "id": "zytl40RLcKKr"
      },
      "source": [
        "np.random.seed(42)\n",
        "X = np.random.rand(100, 1) - 0.5\n",
        "y = 3*X[:, 0]**2 + 0.05 * np.random.randn(100)"
      ],
      "execution_count": 21,
      "outputs": []
    },
    {
      "cell_type": "code",
      "metadata": {
        "id": "G-iX9Sp0eXH2"
      },
      "source": [
        "df = pd.DataFrame()"
      ],
      "execution_count": 22,
      "outputs": []
    },
    {
      "cell_type": "code",
      "metadata": {
        "id": "9ByIdOJNea9V"
      },
      "source": [
        "df['X'] = X.reshape(100)\n",
        "df['y'] = y"
      ],
      "execution_count": 23,
      "outputs": []
    },
    {
      "cell_type": "code",
      "metadata": {
        "colab": {
          "base_uri": "https://localhost:8080/",
          "height": 402
        },
        "id": "Di4zdi6oegKl",
        "outputId": "473b3dbc-e4f2-4020-c701-81bb277a63a3"
      },
      "source": [
        "df"
      ],
      "execution_count": 24,
      "outputs": [
        {
          "output_type": "execute_result",
          "data": {
            "text/html": [
              "<div>\n",
              "<style scoped>\n",
              "    .dataframe tbody tr th:only-of-type {\n",
              "        vertical-align: middle;\n",
              "    }\n",
              "\n",
              "    .dataframe tbody tr th {\n",
              "        vertical-align: top;\n",
              "    }\n",
              "\n",
              "    .dataframe thead th {\n",
              "        text-align: right;\n",
              "    }\n",
              "</style>\n",
              "<table border=\"1\" class=\"dataframe\">\n",
              "  <thead>\n",
              "    <tr style=\"text-align: right;\">\n",
              "      <th></th>\n",
              "      <th>X</th>\n",
              "      <th>y</th>\n",
              "    </tr>\n",
              "  </thead>\n",
              "  <tbody>\n",
              "    <tr>\n",
              "      <th>0</th>\n",
              "      <td>-0.125460</td>\n",
              "      <td>0.051573</td>\n",
              "    </tr>\n",
              "    <tr>\n",
              "      <th>1</th>\n",
              "      <td>0.450714</td>\n",
              "      <td>0.594480</td>\n",
              "    </tr>\n",
              "    <tr>\n",
              "      <th>2</th>\n",
              "      <td>0.231994</td>\n",
              "      <td>0.166052</td>\n",
              "    </tr>\n",
              "    <tr>\n",
              "      <th>3</th>\n",
              "      <td>0.098658</td>\n",
              "      <td>-0.070178</td>\n",
              "    </tr>\n",
              "    <tr>\n",
              "      <th>4</th>\n",
              "      <td>-0.343981</td>\n",
              "      <td>0.343986</td>\n",
              "    </tr>\n",
              "    <tr>\n",
              "      <th>...</th>\n",
              "      <td>...</td>\n",
              "      <td>...</td>\n",
              "    </tr>\n",
              "    <tr>\n",
              "      <th>95</th>\n",
              "      <td>-0.006204</td>\n",
              "      <td>-0.040675</td>\n",
              "    </tr>\n",
              "    <tr>\n",
              "      <th>96</th>\n",
              "      <td>0.022733</td>\n",
              "      <td>-0.002305</td>\n",
              "    </tr>\n",
              "    <tr>\n",
              "      <th>97</th>\n",
              "      <td>-0.072459</td>\n",
              "      <td>0.032809</td>\n",
              "    </tr>\n",
              "    <tr>\n",
              "      <th>98</th>\n",
              "      <td>-0.474581</td>\n",
              "      <td>0.689516</td>\n",
              "    </tr>\n",
              "    <tr>\n",
              "      <th>99</th>\n",
              "      <td>-0.392109</td>\n",
              "      <td>0.502607</td>\n",
              "    </tr>\n",
              "  </tbody>\n",
              "</table>\n",
              "<p>100 rows × 2 columns</p>\n",
              "</div>"
            ],
            "text/plain": [
              "           X         y\n",
              "0  -0.125460  0.051573\n",
              "1   0.450714  0.594480\n",
              "2   0.231994  0.166052\n",
              "3   0.098658 -0.070178\n",
              "4  -0.343981  0.343986\n",
              "..       ...       ...\n",
              "95 -0.006204 -0.040675\n",
              "96  0.022733 -0.002305\n",
              "97 -0.072459  0.032809\n",
              "98 -0.474581  0.689516\n",
              "99 -0.392109  0.502607\n",
              "\n",
              "[100 rows x 2 columns]"
            ]
          },
          "metadata": {
            "tags": []
          },
          "execution_count": 24
        }
      ]
    },
    {
      "cell_type": "markdown",
      "metadata": {
        "id": "97qQO-NLeqcU"
      },
      "source": [
        "**Step 1 : Calculate the mean of column y 'pre1'**"
      ]
    },
    {
      "cell_type": "code",
      "metadata": {
        "colab": {
          "base_uri": "https://localhost:8080/",
          "height": 402
        },
        "id": "2l40HwZvehLR",
        "outputId": "ed57ad74-3dc8-4506-a01d-ccd9fc60cf1a"
      },
      "source": [
        "df['pre1'] = df['y'].mean()\n",
        "df"
      ],
      "execution_count": 25,
      "outputs": [
        {
          "output_type": "execute_result",
          "data": {
            "text/html": [
              "<div>\n",
              "<style scoped>\n",
              "    .dataframe tbody tr th:only-of-type {\n",
              "        vertical-align: middle;\n",
              "    }\n",
              "\n",
              "    .dataframe tbody tr th {\n",
              "        vertical-align: top;\n",
              "    }\n",
              "\n",
              "    .dataframe thead th {\n",
              "        text-align: right;\n",
              "    }\n",
              "</style>\n",
              "<table border=\"1\" class=\"dataframe\">\n",
              "  <thead>\n",
              "    <tr style=\"text-align: right;\">\n",
              "      <th></th>\n",
              "      <th>X</th>\n",
              "      <th>y</th>\n",
              "      <th>pre1</th>\n",
              "    </tr>\n",
              "  </thead>\n",
              "  <tbody>\n",
              "    <tr>\n",
              "      <th>0</th>\n",
              "      <td>-0.125460</td>\n",
              "      <td>0.051573</td>\n",
              "      <td>0.265458</td>\n",
              "    </tr>\n",
              "    <tr>\n",
              "      <th>1</th>\n",
              "      <td>0.450714</td>\n",
              "      <td>0.594480</td>\n",
              "      <td>0.265458</td>\n",
              "    </tr>\n",
              "    <tr>\n",
              "      <th>2</th>\n",
              "      <td>0.231994</td>\n",
              "      <td>0.166052</td>\n",
              "      <td>0.265458</td>\n",
              "    </tr>\n",
              "    <tr>\n",
              "      <th>3</th>\n",
              "      <td>0.098658</td>\n",
              "      <td>-0.070178</td>\n",
              "      <td>0.265458</td>\n",
              "    </tr>\n",
              "    <tr>\n",
              "      <th>4</th>\n",
              "      <td>-0.343981</td>\n",
              "      <td>0.343986</td>\n",
              "      <td>0.265458</td>\n",
              "    </tr>\n",
              "    <tr>\n",
              "      <th>...</th>\n",
              "      <td>...</td>\n",
              "      <td>...</td>\n",
              "      <td>...</td>\n",
              "    </tr>\n",
              "    <tr>\n",
              "      <th>95</th>\n",
              "      <td>-0.006204</td>\n",
              "      <td>-0.040675</td>\n",
              "      <td>0.265458</td>\n",
              "    </tr>\n",
              "    <tr>\n",
              "      <th>96</th>\n",
              "      <td>0.022733</td>\n",
              "      <td>-0.002305</td>\n",
              "      <td>0.265458</td>\n",
              "    </tr>\n",
              "    <tr>\n",
              "      <th>97</th>\n",
              "      <td>-0.072459</td>\n",
              "      <td>0.032809</td>\n",
              "      <td>0.265458</td>\n",
              "    </tr>\n",
              "    <tr>\n",
              "      <th>98</th>\n",
              "      <td>-0.474581</td>\n",
              "      <td>0.689516</td>\n",
              "      <td>0.265458</td>\n",
              "    </tr>\n",
              "    <tr>\n",
              "      <th>99</th>\n",
              "      <td>-0.392109</td>\n",
              "      <td>0.502607</td>\n",
              "      <td>0.265458</td>\n",
              "    </tr>\n",
              "  </tbody>\n",
              "</table>\n",
              "<p>100 rows × 3 columns</p>\n",
              "</div>"
            ],
            "text/plain": [
              "           X         y      pre1\n",
              "0  -0.125460  0.051573  0.265458\n",
              "1   0.450714  0.594480  0.265458\n",
              "2   0.231994  0.166052  0.265458\n",
              "3   0.098658 -0.070178  0.265458\n",
              "4  -0.343981  0.343986  0.265458\n",
              "..       ...       ...       ...\n",
              "95 -0.006204 -0.040675  0.265458\n",
              "96  0.022733 -0.002305  0.265458\n",
              "97 -0.072459  0.032809  0.265458\n",
              "98 -0.474581  0.689516  0.265458\n",
              "99 -0.392109  0.502607  0.265458\n",
              "\n",
              "[100 rows x 3 columns]"
            ]
          },
          "metadata": {
            "tags": []
          },
          "execution_count": 25
        }
      ]
    },
    {
      "cell_type": "markdown",
      "metadata": {
        "id": "JXJgMjKWfD-j"
      },
      "source": [
        "**Step 2 : Calculate the residual 'res1'**"
      ]
    },
    {
      "cell_type": "code",
      "metadata": {
        "colab": {
          "base_uri": "https://localhost:8080/",
          "height": 402
        },
        "id": "-1i2iQXie5Jl",
        "outputId": "13f720e2-0026-4ae9-c029-677cfa737084"
      },
      "source": [
        "df['res1'] = df['y'] - df['pre1']\n",
        "df"
      ],
      "execution_count": 26,
      "outputs": [
        {
          "output_type": "execute_result",
          "data": {
            "text/html": [
              "<div>\n",
              "<style scoped>\n",
              "    .dataframe tbody tr th:only-of-type {\n",
              "        vertical-align: middle;\n",
              "    }\n",
              "\n",
              "    .dataframe tbody tr th {\n",
              "        vertical-align: top;\n",
              "    }\n",
              "\n",
              "    .dataframe thead th {\n",
              "        text-align: right;\n",
              "    }\n",
              "</style>\n",
              "<table border=\"1\" class=\"dataframe\">\n",
              "  <thead>\n",
              "    <tr style=\"text-align: right;\">\n",
              "      <th></th>\n",
              "      <th>X</th>\n",
              "      <th>y</th>\n",
              "      <th>pre1</th>\n",
              "      <th>res1</th>\n",
              "    </tr>\n",
              "  </thead>\n",
              "  <tbody>\n",
              "    <tr>\n",
              "      <th>0</th>\n",
              "      <td>-0.125460</td>\n",
              "      <td>0.051573</td>\n",
              "      <td>0.265458</td>\n",
              "      <td>-0.213885</td>\n",
              "    </tr>\n",
              "    <tr>\n",
              "      <th>1</th>\n",
              "      <td>0.450714</td>\n",
              "      <td>0.594480</td>\n",
              "      <td>0.265458</td>\n",
              "      <td>0.329021</td>\n",
              "    </tr>\n",
              "    <tr>\n",
              "      <th>2</th>\n",
              "      <td>0.231994</td>\n",
              "      <td>0.166052</td>\n",
              "      <td>0.265458</td>\n",
              "      <td>-0.099407</td>\n",
              "    </tr>\n",
              "    <tr>\n",
              "      <th>3</th>\n",
              "      <td>0.098658</td>\n",
              "      <td>-0.070178</td>\n",
              "      <td>0.265458</td>\n",
              "      <td>-0.335636</td>\n",
              "    </tr>\n",
              "    <tr>\n",
              "      <th>4</th>\n",
              "      <td>-0.343981</td>\n",
              "      <td>0.343986</td>\n",
              "      <td>0.265458</td>\n",
              "      <td>0.078528</td>\n",
              "    </tr>\n",
              "    <tr>\n",
              "      <th>...</th>\n",
              "      <td>...</td>\n",
              "      <td>...</td>\n",
              "      <td>...</td>\n",
              "      <td>...</td>\n",
              "    </tr>\n",
              "    <tr>\n",
              "      <th>95</th>\n",
              "      <td>-0.006204</td>\n",
              "      <td>-0.040675</td>\n",
              "      <td>0.265458</td>\n",
              "      <td>-0.306133</td>\n",
              "    </tr>\n",
              "    <tr>\n",
              "      <th>96</th>\n",
              "      <td>0.022733</td>\n",
              "      <td>-0.002305</td>\n",
              "      <td>0.265458</td>\n",
              "      <td>-0.267763</td>\n",
              "    </tr>\n",
              "    <tr>\n",
              "      <th>97</th>\n",
              "      <td>-0.072459</td>\n",
              "      <td>0.032809</td>\n",
              "      <td>0.265458</td>\n",
              "      <td>-0.232650</td>\n",
              "    </tr>\n",
              "    <tr>\n",
              "      <th>98</th>\n",
              "      <td>-0.474581</td>\n",
              "      <td>0.689516</td>\n",
              "      <td>0.265458</td>\n",
              "      <td>0.424057</td>\n",
              "    </tr>\n",
              "    <tr>\n",
              "      <th>99</th>\n",
              "      <td>-0.392109</td>\n",
              "      <td>0.502607</td>\n",
              "      <td>0.265458</td>\n",
              "      <td>0.237148</td>\n",
              "    </tr>\n",
              "  </tbody>\n",
              "</table>\n",
              "<p>100 rows × 4 columns</p>\n",
              "</div>"
            ],
            "text/plain": [
              "           X         y      pre1      res1\n",
              "0  -0.125460  0.051573  0.265458 -0.213885\n",
              "1   0.450714  0.594480  0.265458  0.329021\n",
              "2   0.231994  0.166052  0.265458 -0.099407\n",
              "3   0.098658 -0.070178  0.265458 -0.335636\n",
              "4  -0.343981  0.343986  0.265458  0.078528\n",
              "..       ...       ...       ...       ...\n",
              "95 -0.006204 -0.040675  0.265458 -0.306133\n",
              "96  0.022733 -0.002305  0.265458 -0.267763\n",
              "97 -0.072459  0.032809  0.265458 -0.232650\n",
              "98 -0.474581  0.689516  0.265458  0.424057\n",
              "99 -0.392109  0.502607  0.265458  0.237148\n",
              "\n",
              "[100 rows x 4 columns]"
            ]
          },
          "metadata": {
            "tags": []
          },
          "execution_count": 26
        }
      ]
    },
    {
      "cell_type": "markdown",
      "metadata": {
        "id": "Q_aSrgyafX-_"
      },
      "source": [
        "**Step 3 : Create a decision tree with input column as 'X' and output column as 'res1'**"
      ]
    },
    {
      "cell_type": "code",
      "metadata": {
        "id": "A7sp2jhKfPHv"
      },
      "source": [
        "from sklearn.tree import DecisionTreeRegressor"
      ],
      "execution_count": 27,
      "outputs": []
    },
    {
      "cell_type": "code",
      "metadata": {
        "id": "1g9PAR_RfzUj"
      },
      "source": [
        "tree1 =  DecisionTreeRegressor(max_leaf_nodes=8)"
      ],
      "execution_count": 28,
      "outputs": []
    },
    {
      "cell_type": "code",
      "metadata": {
        "colab": {
          "base_uri": "https://localhost:8080/"
        },
        "id": "05WA8jOof479",
        "outputId": "4cb4f80d-36b5-4f3f-b0e0-db8322b24877"
      },
      "source": [
        "tree1.fit(df['X'].values.reshape(100,1),df['res1'].values)"
      ],
      "execution_count": 29,
      "outputs": [
        {
          "output_type": "execute_result",
          "data": {
            "text/plain": [
              "DecisionTreeRegressor(ccp_alpha=0.0, criterion='mse', max_depth=None,\n",
              "                      max_features=None, max_leaf_nodes=8,\n",
              "                      min_impurity_decrease=0.0, min_impurity_split=None,\n",
              "                      min_samples_leaf=1, min_samples_split=2,\n",
              "                      min_weight_fraction_leaf=0.0, presort='deprecated',\n",
              "                      random_state=None, splitter='best')"
            ]
          },
          "metadata": {
            "tags": []
          },
          "execution_count": 29
        }
      ]
    },
    {
      "cell_type": "code",
      "metadata": {
        "colab": {
          "base_uri": "https://localhost:8080/",
          "height": 500
        },
        "id": "2h4s25MUgGfa",
        "outputId": "28871c6e-0a87-44d6-ea05-e710ac6ec3ee"
      },
      "source": [
        "from sklearn.tree import plot_tree\n",
        "plot_tree(tree1)"
      ],
      "execution_count": 30,
      "outputs": [
        {
          "output_type": "execute_result",
          "data": {
            "text/plain": [
              "[Text(136.96363636363637, 199.32, 'X[0] <= -0.36\\nmse = 0.056\\nsamples = 100\\nvalue = -0.0'),\n",
              " Text(60.872727272727275, 163.07999999999998, 'X[0] <= -0.43\\nmse = 0.012\\nsamples = 18\\nvalue = 0.309'),\n",
              " Text(30.436363636363637, 126.83999999999999, 'mse = 0.004\\nsamples = 9\\nvalue = 0.395'),\n",
              " Text(91.30909090909091, 126.83999999999999, 'mse = 0.005\\nsamples = 9\\nvalue = 0.222'),\n",
              " Text(213.05454545454546, 163.07999999999998, 'X[0] <= 0.322\\nmse = 0.04\\nsamples = 82\\nvalue = -0.068'),\n",
              " Text(152.1818181818182, 126.83999999999999, 'X[0] <= -0.235\\nmse = 0.016\\nsamples = 67\\nvalue = -0.142'),\n",
              " Text(121.74545454545455, 90.6, 'mse = 0.003\\nsamples = 12\\nvalue = 0.041'),\n",
              " Text(182.61818181818182, 90.6, 'X[0] <= 0.211\\nmse = 0.009\\nsamples = 55\\nvalue = -0.182'),\n",
              " Text(152.1818181818182, 54.359999999999985, 'X[0] <= -0.172\\nmse = 0.005\\nsamples = 42\\nvalue = -0.223'),\n",
              " Text(121.74545454545455, 18.119999999999976, 'mse = 0.002\\nsamples = 10\\nvalue = -0.144'),\n",
              " Text(182.61818181818182, 18.119999999999976, 'mse = 0.003\\nsamples = 32\\nvalue = -0.247'),\n",
              " Text(213.05454545454546, 54.359999999999985, 'mse = 0.002\\nsamples = 13\\nvalue = -0.05'),\n",
              " Text(273.92727272727274, 126.83999999999999, 'X[0] <= 0.402\\nmse = 0.013\\nsamples = 15\\nvalue = 0.263'),\n",
              " Text(243.4909090909091, 90.6, 'mse = 0.005\\nsamples = 6\\nvalue = 0.147'),\n",
              " Text(304.3636363636364, 90.6, 'mse = 0.004\\nsamples = 9\\nvalue = 0.34')]"
            ]
          },
          "metadata": {
            "tags": []
          },
          "execution_count": 30
        },
        {
          "output_type": "display_data",
          "data": {
            "image/png": "[encoded data removed]",
            "text/plain": [
              "<Figure size 432x288 with 1 Axes>"
            ]
          },
          "metadata": {
            "tags": [],
            "needs_background": "light"
          }
        }
      ]
    },
    {
      "cell_type": "markdown",
      "metadata": {
        "id": "ttzFusk_gzTx"
      },
      "source": [
        "**Step 4 : Calculating second prediction 'pre2'**"
      ]
    },
    {
      "cell_type": "markdown",
      "metadata": {
        "id": "ebyc919GhM80"
      },
      "source": [
        "Learning rate = 1"
      ]
    },
    {
      "cell_type": "code",
      "metadata": {
        "colab": {
          "base_uri": "https://localhost:8080/",
          "height": 402
        },
        "id": "3u3XrNTBgOo3",
        "outputId": "c707a39a-e131-44fd-d6dd-e14762dc59eb"
      },
      "source": [
        "df['pre2'] = 0.314432\t+ tree1.predict(df['X'].values.reshape(100,1))\n",
        "df"
      ],
      "execution_count": 31,
      "outputs": [
        {
          "output_type": "execute_result",
          "data": {
            "text/html": [
              "<div>\n",
              "<style scoped>\n",
              "    .dataframe tbody tr th:only-of-type {\n",
              "        vertical-align: middle;\n",
              "    }\n",
              "\n",
              "    .dataframe tbody tr th {\n",
              "        vertical-align: top;\n",
              "    }\n",
              "\n",
              "    .dataframe thead th {\n",
              "        text-align: right;\n",
              "    }\n",
              "</style>\n",
              "<table border=\"1\" class=\"dataframe\">\n",
              "  <thead>\n",
              "    <tr style=\"text-align: right;\">\n",
              "      <th></th>\n",
              "      <th>X</th>\n",
              "      <th>y</th>\n",
              "      <th>pre1</th>\n",
              "      <th>res1</th>\n",
              "      <th>pre2</th>\n",
              "    </tr>\n",
              "  </thead>\n",
              "  <tbody>\n",
              "    <tr>\n",
              "      <th>0</th>\n",
              "      <td>-0.125460</td>\n",
              "      <td>0.051573</td>\n",
              "      <td>0.265458</td>\n",
              "      <td>-0.213885</td>\n",
              "      <td>0.067293</td>\n",
              "    </tr>\n",
              "    <tr>\n",
              "      <th>1</th>\n",
              "      <td>0.450714</td>\n",
              "      <td>0.594480</td>\n",
              "      <td>0.265458</td>\n",
              "      <td>0.329021</td>\n",
              "      <td>0.654858</td>\n",
              "    </tr>\n",
              "    <tr>\n",
              "      <th>2</th>\n",
              "      <td>0.231994</td>\n",
              "      <td>0.166052</td>\n",
              "      <td>0.265458</td>\n",
              "      <td>-0.099407</td>\n",
              "      <td>0.264758</td>\n",
              "    </tr>\n",
              "    <tr>\n",
              "      <th>3</th>\n",
              "      <td>0.098658</td>\n",
              "      <td>-0.070178</td>\n",
              "      <td>0.265458</td>\n",
              "      <td>-0.335636</td>\n",
              "      <td>0.067293</td>\n",
              "    </tr>\n",
              "    <tr>\n",
              "      <th>4</th>\n",
              "      <td>-0.343981</td>\n",
              "      <td>0.343986</td>\n",
              "      <td>0.265458</td>\n",
              "      <td>0.078528</td>\n",
              "      <td>0.354938</td>\n",
              "    </tr>\n",
              "    <tr>\n",
              "      <th>...</th>\n",
              "      <td>...</td>\n",
              "      <td>...</td>\n",
              "      <td>...</td>\n",
              "      <td>...</td>\n",
              "      <td>...</td>\n",
              "    </tr>\n",
              "    <tr>\n",
              "      <th>95</th>\n",
              "      <td>-0.006204</td>\n",
              "      <td>-0.040675</td>\n",
              "      <td>0.265458</td>\n",
              "      <td>-0.306133</td>\n",
              "      <td>0.067293</td>\n",
              "    </tr>\n",
              "    <tr>\n",
              "      <th>96</th>\n",
              "      <td>0.022733</td>\n",
              "      <td>-0.002305</td>\n",
              "      <td>0.265458</td>\n",
              "      <td>-0.267763</td>\n",
              "      <td>0.067293</td>\n",
              "    </tr>\n",
              "    <tr>\n",
              "      <th>97</th>\n",
              "      <td>-0.072459</td>\n",
              "      <td>0.032809</td>\n",
              "      <td>0.265458</td>\n",
              "      <td>-0.232650</td>\n",
              "      <td>0.067293</td>\n",
              "    </tr>\n",
              "    <tr>\n",
              "      <th>98</th>\n",
              "      <td>-0.474581</td>\n",
              "      <td>0.689516</td>\n",
              "      <td>0.265458</td>\n",
              "      <td>0.424057</td>\n",
              "      <td>0.709886</td>\n",
              "    </tr>\n",
              "    <tr>\n",
              "      <th>99</th>\n",
              "      <td>-0.392109</td>\n",
              "      <td>0.502607</td>\n",
              "      <td>0.265458</td>\n",
              "      <td>0.237148</td>\n",
              "      <td>0.536770</td>\n",
              "    </tr>\n",
              "  </tbody>\n",
              "</table>\n",
              "<p>100 rows × 5 columns</p>\n",
              "</div>"
            ],
            "text/plain": [
              "           X         y      pre1      res1      pre2\n",
              "0  -0.125460  0.051573  0.265458 -0.213885  0.067293\n",
              "1   0.450714  0.594480  0.265458  0.329021  0.654858\n",
              "2   0.231994  0.166052  0.265458 -0.099407  0.264758\n",
              "3   0.098658 -0.070178  0.265458 -0.335636  0.067293\n",
              "4  -0.343981  0.343986  0.265458  0.078528  0.354938\n",
              "..       ...       ...       ...       ...       ...\n",
              "95 -0.006204 -0.040675  0.265458 -0.306133  0.067293\n",
              "96  0.022733 -0.002305  0.265458 -0.267763  0.067293\n",
              "97 -0.072459  0.032809  0.265458 -0.232650  0.067293\n",
              "98 -0.474581  0.689516  0.265458  0.424057  0.709886\n",
              "99 -0.392109  0.502607  0.265458  0.237148  0.536770\n",
              "\n",
              "[100 rows x 5 columns]"
            ]
          },
          "metadata": {
            "tags": []
          },
          "execution_count": 31
        }
      ]
    },
    {
      "cell_type": "markdown",
      "metadata": {
        "id": "f9kEgBCfh0Js"
      },
      "source": [
        "**How the decicion tree fits in our data?**"
      ]
    },
    {
      "cell_type": "code",
      "metadata": {
        "id": "mlFEpuOPhSmg"
      },
      "source": [
        "X_test = np.linspace(-0.5, 0.5, 500)"
      ],
      "execution_count": 32,
      "outputs": []
    },
    {
      "cell_type": "code",
      "metadata": {
        "id": "pALOzZXaiJJT"
      },
      "source": [
        "y_pred = 0.314432\t+ tree1.predict(X_test.reshape(500,1))"
      ],
      "execution_count": 33,
      "outputs": []
    },
    {
      "cell_type": "code",
      "metadata": {
        "colab": {
          "base_uri": "https://localhost:8080/",
          "height": 298
        },
        "id": "X36c-QKBif9t",
        "outputId": "7021a66b-7d2b-4248-f464-e429008bdb64"
      },
      "source": [
        "plt.figure(figsize=(14,4))\n",
        "plt.subplot(121)\n",
        "plt.plot(X_test, y_pred, linewidth=2, color='red')\n",
        "plt.scatter(df['X'],df['y'])\n",
        "plt.title('X vs y')"
      ],
      "execution_count": 34,
      "outputs": [
        {
          "output_type": "execute_result",
          "data": {
            "text/plain": [
              "Text(0.5, 1.0, 'X vs y')"
            ]
          },
          "metadata": {
            "tags": []
          },
          "execution_count": 34
        },
        {
          "output_type": "display_data",
          "data": {
            "image/png": "[encoded data removed]",
            "text/plain": [
              "<Figure size 1008x288 with 1 Axes>"
            ]
          },
          "metadata": {
            "tags": [],
            "needs_background": "light"
          }
        }
      ]
    },
    {
      "cell_type": "markdown",
      "metadata": {
        "id": "piBZOAzGjV5p"
      },
      "source": [
        "**Step 5 : Calculating the residual 'res2' for the second prediction**"
      ]
    },
    {
      "cell_type": "code",
      "metadata": {
        "colab": {
          "base_uri": "https://localhost:8080/",
          "height": 402
        },
        "id": "izUjZUfRi4id",
        "outputId": "409a1965-b03a-457c-a175-9d353dcb6399"
      },
      "source": [
        "df['res2'] = df['y'] - df['pre2']\n",
        "df"
      ],
      "execution_count": 35,
      "outputs": [
        {
          "output_type": "execute_result",
          "data": {
            "text/html": [
              "<div>\n",
              "<style scoped>\n",
              "    .dataframe tbody tr th:only-of-type {\n",
              "        vertical-align: middle;\n",
              "    }\n",
              "\n",
              "    .dataframe tbody tr th {\n",
              "        vertical-align: top;\n",
              "    }\n",
              "\n",
              "    .dataframe thead th {\n",
              "        text-align: right;\n",
              "    }\n",
              "</style>\n",
              "<table border=\"1\" class=\"dataframe\">\n",
              "  <thead>\n",
              "    <tr style=\"text-align: right;\">\n",
              "      <th></th>\n",
              "      <th>X</th>\n",
              "      <th>y</th>\n",
              "      <th>pre1</th>\n",
              "      <th>res1</th>\n",
              "      <th>pre2</th>\n",
              "      <th>res2</th>\n",
              "    </tr>\n",
              "  </thead>\n",
              "  <tbody>\n",
              "    <tr>\n",
              "      <th>0</th>\n",
              "      <td>-0.125460</td>\n",
              "      <td>0.051573</td>\n",
              "      <td>0.265458</td>\n",
              "      <td>-0.213885</td>\n",
              "      <td>0.067293</td>\n",
              "      <td>-0.015720</td>\n",
              "    </tr>\n",
              "    <tr>\n",
              "      <th>1</th>\n",
              "      <td>0.450714</td>\n",
              "      <td>0.594480</td>\n",
              "      <td>0.265458</td>\n",
              "      <td>0.329021</td>\n",
              "      <td>0.654858</td>\n",
              "      <td>-0.060378</td>\n",
              "    </tr>\n",
              "    <tr>\n",
              "      <th>2</th>\n",
              "      <td>0.231994</td>\n",
              "      <td>0.166052</td>\n",
              "      <td>0.265458</td>\n",
              "      <td>-0.099407</td>\n",
              "      <td>0.264758</td>\n",
              "      <td>-0.098706</td>\n",
              "    </tr>\n",
              "    <tr>\n",
              "      <th>3</th>\n",
              "      <td>0.098658</td>\n",
              "      <td>-0.070178</td>\n",
              "      <td>0.265458</td>\n",
              "      <td>-0.335636</td>\n",
              "      <td>0.067293</td>\n",
              "      <td>-0.137471</td>\n",
              "    </tr>\n",
              "    <tr>\n",
              "      <th>4</th>\n",
              "      <td>-0.343981</td>\n",
              "      <td>0.343986</td>\n",
              "      <td>0.265458</td>\n",
              "      <td>0.078528</td>\n",
              "      <td>0.354938</td>\n",
              "      <td>-0.010952</td>\n",
              "    </tr>\n",
              "    <tr>\n",
              "      <th>...</th>\n",
              "      <td>...</td>\n",
              "      <td>...</td>\n",
              "      <td>...</td>\n",
              "      <td>...</td>\n",
              "      <td>...</td>\n",
              "      <td>...</td>\n",
              "    </tr>\n",
              "    <tr>\n",
              "      <th>95</th>\n",
              "      <td>-0.006204</td>\n",
              "      <td>-0.040675</td>\n",
              "      <td>0.265458</td>\n",
              "      <td>-0.306133</td>\n",
              "      <td>0.067293</td>\n",
              "      <td>-0.107968</td>\n",
              "    </tr>\n",
              "    <tr>\n",
              "      <th>96</th>\n",
              "      <td>0.022733</td>\n",
              "      <td>-0.002305</td>\n",
              "      <td>0.265458</td>\n",
              "      <td>-0.267763</td>\n",
              "      <td>0.067293</td>\n",
              "      <td>-0.069598</td>\n",
              "    </tr>\n",
              "    <tr>\n",
              "      <th>97</th>\n",
              "      <td>-0.072459</td>\n",
              "      <td>0.032809</td>\n",
              "      <td>0.265458</td>\n",
              "      <td>-0.232650</td>\n",
              "      <td>0.067293</td>\n",
              "      <td>-0.034485</td>\n",
              "    </tr>\n",
              "    <tr>\n",
              "      <th>98</th>\n",
              "      <td>-0.474581</td>\n",
              "      <td>0.689516</td>\n",
              "      <td>0.265458</td>\n",
              "      <td>0.424057</td>\n",
              "      <td>0.709886</td>\n",
              "      <td>-0.020370</td>\n",
              "    </tr>\n",
              "    <tr>\n",
              "      <th>99</th>\n",
              "      <td>-0.392109</td>\n",
              "      <td>0.502607</td>\n",
              "      <td>0.265458</td>\n",
              "      <td>0.237148</td>\n",
              "      <td>0.536770</td>\n",
              "      <td>-0.034164</td>\n",
              "    </tr>\n",
              "  </tbody>\n",
              "</table>\n",
              "<p>100 rows × 6 columns</p>\n",
              "</div>"
            ],
            "text/plain": [
              "           X         y      pre1      res1      pre2      res2\n",
              "0  -0.125460  0.051573  0.265458 -0.213885  0.067293 -0.015720\n",
              "1   0.450714  0.594480  0.265458  0.329021  0.654858 -0.060378\n",
              "2   0.231994  0.166052  0.265458 -0.099407  0.264758 -0.098706\n",
              "3   0.098658 -0.070178  0.265458 -0.335636  0.067293 -0.137471\n",
              "4  -0.343981  0.343986  0.265458  0.078528  0.354938 -0.010952\n",
              "..       ...       ...       ...       ...       ...       ...\n",
              "95 -0.006204 -0.040675  0.265458 -0.306133  0.067293 -0.107968\n",
              "96  0.022733 -0.002305  0.265458 -0.267763  0.067293 -0.069598\n",
              "97 -0.072459  0.032809  0.265458 -0.232650  0.067293 -0.034485\n",
              "98 -0.474581  0.689516  0.265458  0.424057  0.709886 -0.020370\n",
              "99 -0.392109  0.502607  0.265458  0.237148  0.536770 -0.034164\n",
              "\n",
              "[100 rows x 6 columns]"
            ]
          },
          "metadata": {
            "tags": []
          },
          "execution_count": 35
        }
      ]
    },
    {
      "cell_type": "markdown",
      "metadata": {
        "id": "guMGs8yInbEG"
      },
      "source": [
        "**Step 6 : Create a second decision tree with input column as 'X' and output column as 'res2'**"
      ]
    },
    {
      "cell_type": "code",
      "metadata": {
        "id": "kNMX0uvSjl7h"
      },
      "source": [
        "tree2 =  DecisionTreeRegressor(max_leaf_nodes=8)"
      ],
      "execution_count": 36,
      "outputs": []
    },
    {
      "cell_type": "code",
      "metadata": {
        "colab": {
          "base_uri": "https://localhost:8080/"
        },
        "id": "jqCEjR7InrrF",
        "outputId": "f685eb5d-399d-4d35-f7c6-2c49433d9e53"
      },
      "source": [
        "tree2.fit(df['X'].values.reshape(100,1),df['res2'].values)"
      ],
      "execution_count": 37,
      "outputs": [
        {
          "output_type": "execute_result",
          "data": {
            "text/plain": [
              "DecisionTreeRegressor(ccp_alpha=0.0, criterion='mse', max_depth=None,\n",
              "                      max_features=None, max_leaf_nodes=8,\n",
              "                      min_impurity_decrease=0.0, min_impurity_split=None,\n",
              "                      min_samples_leaf=1, min_samples_split=2,\n",
              "                      min_weight_fraction_leaf=0.0, presort='deprecated',\n",
              "                      random_state=None, splitter='best')"
            ]
          },
          "metadata": {
            "tags": []
          },
          "execution_count": 37
        }
      ]
    },
    {
      "cell_type": "code",
      "metadata": {
        "colab": {
          "base_uri": "https://localhost:8080/",
          "height": 500
        },
        "id": "yI9lYLkunyn1",
        "outputId": "d88ca349-48c6-4dbb-ef11-8d49dca5fb20"
      },
      "source": [
        "from sklearn.tree import plot_tree\n",
        "plot_tree(tree2)"
      ],
      "execution_count": 38,
      "outputs": [
        {
          "output_type": "execute_result",
          "data": {
            "text/plain": [
              "[Text(111.60000000000001, 201.90857142857143, 'X[0] <= 0.47\\nmse = 0.003\\nsamples = 100\\nvalue = -0.049'),\n",
              " Text(74.4, 170.84571428571428, 'X[0] <= -0.46\\nmse = 0.003\\nsamples = 98\\nvalue = -0.051'),\n",
              " Text(37.2, 139.78285714285715, 'mse = 0.001\\nsamples = 4\\nvalue = 0.013'),\n",
              " Text(111.60000000000001, 139.78285714285715, 'X[0] <= -0.43\\nmse = 0.003\\nsamples = 94\\nvalue = -0.054'),\n",
              " Text(74.4, 108.72, 'mse = 0.001\\nsamples = 5\\nvalue = -0.099'),\n",
              " Text(148.8, 108.72, 'X[0] <= -0.397\\nmse = 0.003\\nsamples = 89\\nvalue = -0.051'),\n",
              " Text(111.60000000000001, 77.65714285714284, 'mse = 0.003\\nsamples = 4\\nvalue = 0.007'),\n",
              " Text(186.0, 77.65714285714284, 'X[0] <= 0.104\\nmse = 0.003\\nsamples = 85\\nvalue = -0.054'),\n",
              " Text(111.60000000000001, 46.59428571428572, 'X[0] <= -0.052\\nmse = 0.002\\nsamples = 51\\nvalue = -0.063'),\n",
              " Text(74.4, 15.531428571428563, 'mse = 0.002\\nsamples = 36\\nvalue = -0.053'),\n",
              " Text(148.8, 15.531428571428563, 'mse = 0.002\\nsamples = 15\\nvalue = -0.087'),\n",
              " Text(260.40000000000003, 46.59428571428572, 'X[0] <= 0.211\\nmse = 0.003\\nsamples = 34\\nvalue = -0.041'),\n",
              " Text(223.20000000000002, 15.531428571428563, 'mse = 0.002\\nsamples = 8\\nvalue = 0.012'),\n",
              " Text(297.6, 15.531428571428563, 'mse = 0.003\\nsamples = 26\\nvalue = -0.057'),\n",
              " Text(148.8, 170.84571428571428, 'mse = 0.001\\nsamples = 2\\nvalue = 0.06')]"
            ]
          },
          "metadata": {
            "tags": []
          },
          "execution_count": 38
        },
        {
          "output_type": "display_data",
          "data": {
            "image/png": "[encoded data removed]",
            "text/plain": [
              "<Figure size 432x288 with 1 Axes>"
            ]
          },
          "metadata": {
            "tags": [],
            "needs_background": "light"
          }
        }
      ]
    },
    {
      "cell_type": "markdown",
      "metadata": {
        "id": "hlQRKtNpoUXu"
      },
      "source": [
        "**How the second decision tree fits in our data?**"
      ]
    },
    {
      "cell_type": "code",
      "metadata": {
        "id": "DvWpvOhZn-ud"
      },
      "source": [
        "y_pred = 0.314432\t+ sum(regressor.predict(X_test.reshape(-1, 1)) for regressor in [tree1,tree2])"
      ],
      "execution_count": 39,
      "outputs": []
    },
    {
      "cell_type": "code",
      "metadata": {
        "colab": {
          "base_uri": "https://localhost:8080/",
          "height": 298
        },
        "id": "kZkt4Hv6on9D",
        "outputId": "fe60119b-2389-45f8-8d75-cc0099de5c13"
      },
      "source": [
        "plt.figure(figsize=(14,4))\n",
        "plt.subplot(121)\n",
        "plt.plot(X_test, y_pred, linewidth=2, color='red')\n",
        "plt.scatter(df['X'],df['y'])\n",
        "plt.title('X vs y')"
      ],
      "execution_count": 40,
      "outputs": [
        {
          "output_type": "execute_result",
          "data": {
            "text/plain": [
              "Text(0.5, 1.0, 'X vs y')"
            ]
          },
          "metadata": {
            "tags": []
          },
          "execution_count": 40
        },
        {
          "output_type": "display_data",
          "data": {
            "image/png": "[encoded data removed]",
            "text/plain": [
              "<Figure size 1008x288 with 1 Axes>"
            ]
          },
          "metadata": {
            "tags": [],
            "needs_background": "light"
          }
        }
      ]
    }
  ]
}