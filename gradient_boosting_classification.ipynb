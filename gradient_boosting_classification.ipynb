{
  "nbformat": 4,
  "nbformat_minor": 0,
  "metadata": {
    "colab": {
      "name": "gradient-boosting-classification.ipynb",
      "provenance": []
    },
    "kernelspec": {
      "name": "python3",
      "display_name": "Python 3"
    },
    "language_info": {
      "name": "python"
    }
  },
  "cells": [
    {
      "cell_type": "code",
      "metadata": {
        "id": "PBcQUKw88vVd"
      },
      "source": [
        "import numpy as np\n",
        "import pandas as pd\n",
        "from sklearn.datasets import make_gaussian_quantiles"
      ],
      "execution_count": 7,
      "outputs": []
    },
    {
      "cell_type": "markdown",
      "metadata": {
        "id": "_rOucmRqCGqv"
      },
      "source": [
        "**Construct dataset**\n",
        "\n",
        "**Gaussian 1**"
      ]
    },
    {
      "cell_type": "code",
      "metadata": {
        "id": "PBQJTHiHCFe6"
      },
      "source": [
        "X1, y1 = make_gaussian_quantiles(cov=3., n_samples=1000, n_features=2, n_classes=2, random_state=1)\n",
        "X1 = pd.DataFrame(X1,columns=['x','y'])\n",
        "y1 = pd.Series(y1)"
      ],
      "execution_count": 8,
      "outputs": []
    },
    {
      "cell_type": "markdown",
      "metadata": {
        "id": "7K0svoSGDqmp"
      },
      "source": [
        "**Gaussian 2**"
      ]
    },
    {
      "cell_type": "code",
      "metadata": {
        "id": "JuT1tcR0DpjK"
      },
      "source": [
        "X2, y2 = make_gaussian_quantiles(mean=(4,4), cov=1, n_samples=500, n_features=2, n_classes=2, random_state=1)\n",
        "X2 = pd.DataFrame(X2, columns=['x','y'])\n",
        "y2 = pd.Series(y2)"
      ],
      "execution_count": 9,
      "outputs": []
    },
    {
      "cell_type": "markdown",
      "metadata": {
        "id": "Us7Z3fgXELx2"
      },
      "source": [
        "**Combine the gaussians**"
      ]
    },
    {
      "cell_type": "code",
      "metadata": {
        "id": "nbbPX-sLELA2"
      },
      "source": [
        "df = pd.DataFrame(np.concatenate((X1, X2)))\n",
        "y = pd.Series(np.concatenate((y1, - y2 + 1)))\n",
        "df['y'] = y"
      ],
      "execution_count": 10,
      "outputs": []
    },
    {
      "cell_type": "code",
      "metadata": {
        "colab": {
          "base_uri": "https://localhost:8080/",
          "height": 402
        },
        "id": "8iNZc8j3Fpmu",
        "outputId": "ef034671-55b1-440e-d4c0-63ff7dedfd76"
      },
      "source": [
        "df"
      ],
      "execution_count": 11,
      "outputs": [
        {
          "output_type": "execute_result",
          "data": {
            "text/html": [
              "<div>\n",
              "<style scoped>\n",
              "    .dataframe tbody tr th:only-of-type {\n",
              "        vertical-align: middle;\n",
              "    }\n",
              "\n",
              "    .dataframe tbody tr th {\n",
              "        vertical-align: top;\n",
              "    }\n",
              "\n",
              "    .dataframe thead th {\n",
              "        text-align: right;\n",
              "    }\n",
              "</style>\n",
              "<table border=\"1\" class=\"dataframe\">\n",
              "  <thead>\n",
              "    <tr style=\"text-align: right;\">\n",
              "      <th></th>\n",
              "      <th>0</th>\n",
              "      <th>1</th>\n",
              "      <th>y</th>\n",
              "    </tr>\n",
              "  </thead>\n",
              "  <tbody>\n",
              "    <tr>\n",
              "      <th>0</th>\n",
              "      <td>-1.396342</td>\n",
              "      <td>0.084977</td>\n",
              "      <td>0</td>\n",
              "    </tr>\n",
              "    <tr>\n",
              "      <th>1</th>\n",
              "      <td>1.878268</td>\n",
              "      <td>-0.190694</td>\n",
              "      <td>0</td>\n",
              "    </tr>\n",
              "    <tr>\n",
              "      <th>2</th>\n",
              "      <td>-1.910399</td>\n",
              "      <td>1.315481</td>\n",
              "      <td>1</td>\n",
              "    </tr>\n",
              "    <tr>\n",
              "      <th>3</th>\n",
              "      <td>1.517623</td>\n",
              "      <td>0.213485</td>\n",
              "      <td>0</td>\n",
              "    </tr>\n",
              "    <tr>\n",
              "      <th>4</th>\n",
              "      <td>-3.422065</td>\n",
              "      <td>-1.020059</td>\n",
              "      <td>1</td>\n",
              "    </tr>\n",
              "    <tr>\n",
              "      <th>...</th>\n",
              "      <td>...</td>\n",
              "      <td>...</td>\n",
              "      <td>...</td>\n",
              "    </tr>\n",
              "    <tr>\n",
              "      <th>1495</th>\n",
              "      <td>5.044994</td>\n",
              "      <td>4.608515</td>\n",
              "      <td>0</td>\n",
              "    </tr>\n",
              "    <tr>\n",
              "      <th>1496</th>\n",
              "      <td>3.533845</td>\n",
              "      <td>5.384991</td>\n",
              "      <td>0</td>\n",
              "    </tr>\n",
              "    <tr>\n",
              "      <th>1497</th>\n",
              "      <td>4.309817</td>\n",
              "      <td>5.051321</td>\n",
              "      <td>1</td>\n",
              "    </tr>\n",
              "    <tr>\n",
              "      <th>1498</th>\n",
              "      <td>5.693809</td>\n",
              "      <td>4.196870</td>\n",
              "      <td>0</td>\n",
              "    </tr>\n",
              "    <tr>\n",
              "      <th>1499</th>\n",
              "      <td>6.528326</td>\n",
              "      <td>3.751365</td>\n",
              "      <td>0</td>\n",
              "    </tr>\n",
              "  </tbody>\n",
              "</table>\n",
              "<p>1500 rows × 3 columns</p>\n",
              "</div>"
            ],
            "text/plain": [
              "             0         1  y\n",
              "0    -1.396342  0.084977  0\n",
              "1     1.878268 -0.190694  0\n",
              "2    -1.910399  1.315481  1\n",
              "3     1.517623  0.213485  0\n",
              "4    -3.422065 -1.020059  1\n",
              "...        ...       ... ..\n",
              "1495  5.044994  4.608515  0\n",
              "1496  3.533845  5.384991  0\n",
              "1497  4.309817  5.051321  1\n",
              "1498  5.693809  4.196870  0\n",
              "1499  6.528326  3.751365  0\n",
              "\n",
              "[1500 rows x 3 columns]"
            ]
          },
          "metadata": {
            "tags": []
          },
          "execution_count": 11
        }
      ]
    },
    {
      "cell_type": "code",
      "metadata": {
        "colab": {
          "base_uri": "https://localhost:8080/"
        },
        "id": "jFYKVpAgJeix",
        "outputId": "ce8510cf-5b70-48bb-fb8d-dcf746489d0d"
      },
      "source": [
        "df['y'].value_counts()"
      ],
      "execution_count": 12,
      "outputs": [
        {
          "output_type": "execute_result",
          "data": {
            "text/plain": [
              "1    750\n",
              "0    750\n",
              "Name: y, dtype: int64"
            ]
          },
          "metadata": {
            "tags": []
          },
          "execution_count": 12
        }
      ]
    },
    {
      "cell_type": "markdown",
      "metadata": {
        "id": "4udx2zk8Jtsp"
      },
      "source": [
        "We don't want equal distribution for 0 and 1."
      ]
    },
    {
      "cell_type": "code",
      "metadata": {
        "id": "XoeCOtxCGLu3"
      },
      "source": [
        "df = df.sample(1500)[0:1000]"
      ],
      "execution_count": 14,
      "outputs": []
    },
    {
      "cell_type": "code",
      "metadata": {
        "colab": {
          "base_uri": "https://localhost:8080/"
        },
        "id": "4OzmS3KxJ1Wd",
        "outputId": "b3e50e4d-b0cf-4235-ee47-28e80c01c141"
      },
      "source": [
        "df['y'].value_counts()"
      ],
      "execution_count": 15,
      "outputs": [
        {
          "output_type": "execute_result",
          "data": {
            "text/plain": [
              "1    503\n",
              "0    497\n",
              "Name: y, dtype: int64"
            ]
          },
          "metadata": {
            "tags": []
          },
          "execution_count": 15
        }
      ]
    },
    {
      "cell_type": "code",
      "metadata": {
        "colab": {
          "base_uri": "https://localhost:8080/",
          "height": 282
        },
        "id": "xu7oWIX5J3AD",
        "outputId": "ec5ea2f5-9e9e-4eeb-fa13-f109704d476d"
      },
      "source": [
        "import matplotlib.pyplot as plt\n",
        "plt.scatter(df.iloc[:,0],df.iloc[:,1],c=df.iloc[:,-1],cmap='winter')"
      ],
      "execution_count": 17,
      "outputs": [
        {
          "output_type": "execute_result",
          "data": {
            "text/plain": [
              "<matplotlib.collections.PathCollection at 0x7fef6030d490>"
            ]
          },
          "metadata": {
            "tags": []
          },
          "execution_count": 17
        },
        {
          "output_type": "display_data",
          "data": {
            "image/png": "[encoded data removed]",
            "text/plain": [
              "<Figure size 432x288 with 1 Axes>"
            ]
          },
          "metadata": {
            "tags": [],
            "needs_background": "light"
          }
        }
      ]
    },
    {
      "cell_type": "markdown",
      "metadata": {
        "id": "vU8AXIufKlht"
      },
      "source": [
        "**Step 1 : Calculate log(odds) to find the prediction 'pre1'**"
      ]
    },
    {
      "cell_type": "code",
      "metadata": {
        "id": "RyTMD-DhKNbu"
      },
      "source": [
        "df['pre1'] = np.log(503/497)"
      ],
      "execution_count": 18,
      "outputs": []
    },
    {
      "cell_type": "code",
      "metadata": {
        "colab": {
          "base_uri": "https://localhost:8080/",
          "height": 402
        },
        "id": "o8Kr9cROLH-J",
        "outputId": "0947d91d-2b10-49bf-b75f-79bb54adc548"
      },
      "source": [
        "df"
      ],
      "execution_count": 19,
      "outputs": [
        {
          "output_type": "execute_result",
          "data": {
            "text/html": [
              "<div>\n",
              "<style scoped>\n",
              "    .dataframe tbody tr th:only-of-type {\n",
              "        vertical-align: middle;\n",
              "    }\n",
              "\n",
              "    .dataframe tbody tr th {\n",
              "        vertical-align: top;\n",
              "    }\n",
              "\n",
              "    .dataframe thead th {\n",
              "        text-align: right;\n",
              "    }\n",
              "</style>\n",
              "<table border=\"1\" class=\"dataframe\">\n",
              "  <thead>\n",
              "    <tr style=\"text-align: right;\">\n",
              "      <th></th>\n",
              "      <th>0</th>\n",
              "      <th>1</th>\n",
              "      <th>y</th>\n",
              "      <th>pre1</th>\n",
              "    </tr>\n",
              "  </thead>\n",
              "  <tbody>\n",
              "    <tr>\n",
              "      <th>382</th>\n",
              "      <td>0.008258</td>\n",
              "      <td>0.959994</td>\n",
              "      <td>0</td>\n",
              "      <td>0.012</td>\n",
              "    </tr>\n",
              "    <tr>\n",
              "      <th>611</th>\n",
              "      <td>-1.208642</td>\n",
              "      <td>-1.001690</td>\n",
              "      <td>0</td>\n",
              "      <td>0.012</td>\n",
              "    </tr>\n",
              "    <tr>\n",
              "      <th>532</th>\n",
              "      <td>-2.018217</td>\n",
              "      <td>-0.736847</td>\n",
              "      <td>1</td>\n",
              "      <td>0.012</td>\n",
              "    </tr>\n",
              "    <tr>\n",
              "      <th>710</th>\n",
              "      <td>2.933763</td>\n",
              "      <td>0.340988</td>\n",
              "      <td>1</td>\n",
              "      <td>0.012</td>\n",
              "    </tr>\n",
              "    <tr>\n",
              "      <th>352</th>\n",
              "      <td>3.177824</td>\n",
              "      <td>0.977540</td>\n",
              "      <td>1</td>\n",
              "      <td>0.012</td>\n",
              "    </tr>\n",
              "    <tr>\n",
              "      <th>...</th>\n",
              "      <td>...</td>\n",
              "      <td>...</td>\n",
              "      <td>...</td>\n",
              "      <td>...</td>\n",
              "    </tr>\n",
              "    <tr>\n",
              "      <th>515</th>\n",
              "      <td>-0.723127</td>\n",
              "      <td>0.228254</td>\n",
              "      <td>0</td>\n",
              "      <td>0.012</td>\n",
              "    </tr>\n",
              "    <tr>\n",
              "      <th>253</th>\n",
              "      <td>-0.963484</td>\n",
              "      <td>-4.504444</td>\n",
              "      <td>1</td>\n",
              "      <td>0.012</td>\n",
              "    </tr>\n",
              "    <tr>\n",
              "      <th>1249</th>\n",
              "      <td>3.436211</td>\n",
              "      <td>4.089686</td>\n",
              "      <td>1</td>\n",
              "      <td>0.012</td>\n",
              "    </tr>\n",
              "    <tr>\n",
              "      <th>372</th>\n",
              "      <td>1.764185</td>\n",
              "      <td>2.131389</td>\n",
              "      <td>1</td>\n",
              "      <td>0.012</td>\n",
              "    </tr>\n",
              "    <tr>\n",
              "      <th>381</th>\n",
              "      <td>1.106658</td>\n",
              "      <td>-0.806546</td>\n",
              "      <td>0</td>\n",
              "      <td>0.012</td>\n",
              "    </tr>\n",
              "  </tbody>\n",
              "</table>\n",
              "<p>1000 rows × 4 columns</p>\n",
              "</div>"
            ],
            "text/plain": [
              "             0         1  y   pre1\n",
              "382   0.008258  0.959994  0  0.012\n",
              "611  -1.208642 -1.001690  0  0.012\n",
              "532  -2.018217 -0.736847  1  0.012\n",
              "710   2.933763  0.340988  1  0.012\n",
              "352   3.177824  0.977540  1  0.012\n",
              "...        ...       ... ..    ...\n",
              "515  -0.723127  0.228254  0  0.012\n",
              "253  -0.963484 -4.504444  1  0.012\n",
              "1249  3.436211  4.089686  1  0.012\n",
              "372   1.764185  2.131389  1  0.012\n",
              "381   1.106658 -0.806546  0  0.012\n",
              "\n",
              "[1000 rows x 4 columns]"
            ]
          },
          "metadata": {
            "tags": []
          },
          "execution_count": 19
        }
      ]
    },
    {
      "cell_type": "markdown",
      "metadata": {
        "id": "s4fRXqDeLYhu"
      },
      "source": [
        "**Converting log(odds) to probability**"
      ]
    },
    {
      "cell_type": "code",
      "metadata": {
        "colab": {
          "base_uri": "https://localhost:8080/"
        },
        "id": "wefDXveJLe1H",
        "outputId": "d9d2e4f8-3d2f-48b9-c42c-2aceb06505bb"
      },
      "source": [
        "p = np.exp(0.012)/(1+np.exp(0.012))\n",
        "p"
      ],
      "execution_count": 20,
      "outputs": [
        {
          "output_type": "execute_result",
          "data": {
            "text/plain": [
              "0.5029999640005185"
            ]
          },
          "metadata": {
            "tags": []
          },
          "execution_count": 20
        }
      ]
    },
    {
      "cell_type": "code",
      "metadata": {
        "id": "O_EXN1GbLxqy"
      },
      "source": [
        "df['pre1'] = p"
      ],
      "execution_count": 21,
      "outputs": []
    },
    {
      "cell_type": "code",
      "metadata": {
        "colab": {
          "base_uri": "https://localhost:8080/",
          "height": 402
        },
        "id": "Lzk33rIcL5pB",
        "outputId": "16b95f96-7bac-4502-eb1f-0009298077b6"
      },
      "source": [
        "df"
      ],
      "execution_count": 22,
      "outputs": [
        {
          "output_type": "execute_result",
          "data": {
            "text/html": [
              "<div>\n",
              "<style scoped>\n",
              "    .dataframe tbody tr th:only-of-type {\n",
              "        vertical-align: middle;\n",
              "    }\n",
              "\n",
              "    .dataframe tbody tr th {\n",
              "        vertical-align: top;\n",
              "    }\n",
              "\n",
              "    .dataframe thead th {\n",
              "        text-align: right;\n",
              "    }\n",
              "</style>\n",
              "<table border=\"1\" class=\"dataframe\">\n",
              "  <thead>\n",
              "    <tr style=\"text-align: right;\">\n",
              "      <th></th>\n",
              "      <th>0</th>\n",
              "      <th>1</th>\n",
              "      <th>y</th>\n",
              "      <th>pre1</th>\n",
              "    </tr>\n",
              "  </thead>\n",
              "  <tbody>\n",
              "    <tr>\n",
              "      <th>382</th>\n",
              "      <td>0.008258</td>\n",
              "      <td>0.959994</td>\n",
              "      <td>0</td>\n",
              "      <td>0.503</td>\n",
              "    </tr>\n",
              "    <tr>\n",
              "      <th>611</th>\n",
              "      <td>-1.208642</td>\n",
              "      <td>-1.001690</td>\n",
              "      <td>0</td>\n",
              "      <td>0.503</td>\n",
              "    </tr>\n",
              "    <tr>\n",
              "      <th>532</th>\n",
              "      <td>-2.018217</td>\n",
              "      <td>-0.736847</td>\n",
              "      <td>1</td>\n",
              "      <td>0.503</td>\n",
              "    </tr>\n",
              "    <tr>\n",
              "      <th>710</th>\n",
              "      <td>2.933763</td>\n",
              "      <td>0.340988</td>\n",
              "      <td>1</td>\n",
              "      <td>0.503</td>\n",
              "    </tr>\n",
              "    <tr>\n",
              "      <th>352</th>\n",
              "      <td>3.177824</td>\n",
              "      <td>0.977540</td>\n",
              "      <td>1</td>\n",
              "      <td>0.503</td>\n",
              "    </tr>\n",
              "    <tr>\n",
              "      <th>...</th>\n",
              "      <td>...</td>\n",
              "      <td>...</td>\n",
              "      <td>...</td>\n",
              "      <td>...</td>\n",
              "    </tr>\n",
              "    <tr>\n",
              "      <th>515</th>\n",
              "      <td>-0.723127</td>\n",
              "      <td>0.228254</td>\n",
              "      <td>0</td>\n",
              "      <td>0.503</td>\n",
              "    </tr>\n",
              "    <tr>\n",
              "      <th>253</th>\n",
              "      <td>-0.963484</td>\n",
              "      <td>-4.504444</td>\n",
              "      <td>1</td>\n",
              "      <td>0.503</td>\n",
              "    </tr>\n",
              "    <tr>\n",
              "      <th>1249</th>\n",
              "      <td>3.436211</td>\n",
              "      <td>4.089686</td>\n",
              "      <td>1</td>\n",
              "      <td>0.503</td>\n",
              "    </tr>\n",
              "    <tr>\n",
              "      <th>372</th>\n",
              "      <td>1.764185</td>\n",
              "      <td>2.131389</td>\n",
              "      <td>1</td>\n",
              "      <td>0.503</td>\n",
              "    </tr>\n",
              "    <tr>\n",
              "      <th>381</th>\n",
              "      <td>1.106658</td>\n",
              "      <td>-0.806546</td>\n",
              "      <td>0</td>\n",
              "      <td>0.503</td>\n",
              "    </tr>\n",
              "  </tbody>\n",
              "</table>\n",
              "<p>1000 rows × 4 columns</p>\n",
              "</div>"
            ],
            "text/plain": [
              "             0         1  y   pre1\n",
              "382   0.008258  0.959994  0  0.503\n",
              "611  -1.208642 -1.001690  0  0.503\n",
              "532  -2.018217 -0.736847  1  0.503\n",
              "710   2.933763  0.340988  1  0.503\n",
              "352   3.177824  0.977540  1  0.503\n",
              "...        ...       ... ..    ...\n",
              "515  -0.723127  0.228254  0  0.503\n",
              "253  -0.963484 -4.504444  1  0.503\n",
              "1249  3.436211  4.089686  1  0.503\n",
              "372   1.764185  2.131389  1  0.503\n",
              "381   1.106658 -0.806546  0  0.503\n",
              "\n",
              "[1000 rows x 4 columns]"
            ]
          },
          "metadata": {
            "tags": []
          },
          "execution_count": 22
        }
      ]
    },
    {
      "cell_type": "markdown",
      "metadata": {
        "id": "Xw85UqLjLNzt"
      },
      "source": [
        "**Step 2 : Calculate the residual 'res1'**"
      ]
    },
    {
      "cell_type": "code",
      "metadata": {
        "colab": {
          "base_uri": "https://localhost:8080/",
          "height": 402
        },
        "id": "-yobZfg0LIxk",
        "outputId": "a9518a34-25f6-4269-c9d3-ac7a1021de4d"
      },
      "source": [
        "df['res1'] = df['y'] - df['pre1']\n",
        "df"
      ],
      "execution_count": 23,
      "outputs": [
        {
          "output_type": "execute_result",
          "data": {
            "text/html": [
              "<div>\n",
              "<style scoped>\n",
              "    .dataframe tbody tr th:only-of-type {\n",
              "        vertical-align: middle;\n",
              "    }\n",
              "\n",
              "    .dataframe tbody tr th {\n",
              "        vertical-align: top;\n",
              "    }\n",
              "\n",
              "    .dataframe thead th {\n",
              "        text-align: right;\n",
              "    }\n",
              "</style>\n",
              "<table border=\"1\" class=\"dataframe\">\n",
              "  <thead>\n",
              "    <tr style=\"text-align: right;\">\n",
              "      <th></th>\n",
              "      <th>0</th>\n",
              "      <th>1</th>\n",
              "      <th>y</th>\n",
              "      <th>pre1</th>\n",
              "      <th>res1</th>\n",
              "    </tr>\n",
              "  </thead>\n",
              "  <tbody>\n",
              "    <tr>\n",
              "      <th>382</th>\n",
              "      <td>0.008258</td>\n",
              "      <td>0.959994</td>\n",
              "      <td>0</td>\n",
              "      <td>0.503</td>\n",
              "      <td>-0.503</td>\n",
              "    </tr>\n",
              "    <tr>\n",
              "      <th>611</th>\n",
              "      <td>-1.208642</td>\n",
              "      <td>-1.001690</td>\n",
              "      <td>0</td>\n",
              "      <td>0.503</td>\n",
              "      <td>-0.503</td>\n",
              "    </tr>\n",
              "    <tr>\n",
              "      <th>532</th>\n",
              "      <td>-2.018217</td>\n",
              "      <td>-0.736847</td>\n",
              "      <td>1</td>\n",
              "      <td>0.503</td>\n",
              "      <td>0.497</td>\n",
              "    </tr>\n",
              "    <tr>\n",
              "      <th>710</th>\n",
              "      <td>2.933763</td>\n",
              "      <td>0.340988</td>\n",
              "      <td>1</td>\n",
              "      <td>0.503</td>\n",
              "      <td>0.497</td>\n",
              "    </tr>\n",
              "    <tr>\n",
              "      <th>352</th>\n",
              "      <td>3.177824</td>\n",
              "      <td>0.977540</td>\n",
              "      <td>1</td>\n",
              "      <td>0.503</td>\n",
              "      <td>0.497</td>\n",
              "    </tr>\n",
              "    <tr>\n",
              "      <th>...</th>\n",
              "      <td>...</td>\n",
              "      <td>...</td>\n",
              "      <td>...</td>\n",
              "      <td>...</td>\n",
              "      <td>...</td>\n",
              "    </tr>\n",
              "    <tr>\n",
              "      <th>515</th>\n",
              "      <td>-0.723127</td>\n",
              "      <td>0.228254</td>\n",
              "      <td>0</td>\n",
              "      <td>0.503</td>\n",
              "      <td>-0.503</td>\n",
              "    </tr>\n",
              "    <tr>\n",
              "      <th>253</th>\n",
              "      <td>-0.963484</td>\n",
              "      <td>-4.504444</td>\n",
              "      <td>1</td>\n",
              "      <td>0.503</td>\n",
              "      <td>0.497</td>\n",
              "    </tr>\n",
              "    <tr>\n",
              "      <th>1249</th>\n",
              "      <td>3.436211</td>\n",
              "      <td>4.089686</td>\n",
              "      <td>1</td>\n",
              "      <td>0.503</td>\n",
              "      <td>0.497</td>\n",
              "    </tr>\n",
              "    <tr>\n",
              "      <th>372</th>\n",
              "      <td>1.764185</td>\n",
              "      <td>2.131389</td>\n",
              "      <td>1</td>\n",
              "      <td>0.503</td>\n",
              "      <td>0.497</td>\n",
              "    </tr>\n",
              "    <tr>\n",
              "      <th>381</th>\n",
              "      <td>1.106658</td>\n",
              "      <td>-0.806546</td>\n",
              "      <td>0</td>\n",
              "      <td>0.503</td>\n",
              "      <td>-0.503</td>\n",
              "    </tr>\n",
              "  </tbody>\n",
              "</table>\n",
              "<p>1000 rows × 5 columns</p>\n",
              "</div>"
            ],
            "text/plain": [
              "             0         1  y   pre1   res1\n",
              "382   0.008258  0.959994  0  0.503 -0.503\n",
              "611  -1.208642 -1.001690  0  0.503 -0.503\n",
              "532  -2.018217 -0.736847  1  0.503  0.497\n",
              "710   2.933763  0.340988  1  0.503  0.497\n",
              "352   3.177824  0.977540  1  0.503  0.497\n",
              "...        ...       ... ..    ...    ...\n",
              "515  -0.723127  0.228254  0  0.503 -0.503\n",
              "253  -0.963484 -4.504444  1  0.503  0.497\n",
              "1249  3.436211  4.089686  1  0.503  0.497\n",
              "372   1.764185  2.131389  1  0.503  0.497\n",
              "381   1.106658 -0.806546  0  0.503 -0.503\n",
              "\n",
              "[1000 rows x 5 columns]"
            ]
          },
          "metadata": {
            "tags": []
          },
          "execution_count": 23
        }
      ]
    },
    {
      "cell_type": "markdown",
      "metadata": {
        "id": "hRbKQ_PVMPw4"
      },
      "source": [
        "**Step 3 : Create a decision tree with input as column '0' and '1' and output as 'res1'**"
      ]
    },
    {
      "cell_type": "markdown",
      "metadata": {
        "id": "y9fRvKUyMw2J"
      },
      "source": [
        "We will use DecisionTreeRegressor because the output column 'res1' is numerical."
      ]
    },
    {
      "cell_type": "code",
      "metadata": {
        "id": "bcUZCp7_MFYU"
      },
      "source": [
        "from sklearn.tree import DecisionTreeRegressor"
      ],
      "execution_count": 24,
      "outputs": []
    },
    {
      "cell_type": "code",
      "metadata": {
        "id": "5TKGDxXqM9tX"
      },
      "source": [
        "tree1 = DecisionTreeRegressor(max_leaf_nodes=8)"
      ],
      "execution_count": 25,
      "outputs": []
    },
    {
      "cell_type": "code",
      "metadata": {
        "colab": {
          "base_uri": "https://localhost:8080/"
        },
        "id": "4q0OpZESNC8Q",
        "outputId": "41bb428a-1292-4933-d6dc-790a4c7c889a"
      },
      "source": [
        "tree1.fit(df.iloc[:,0:2],df.iloc[:,-1])"
      ],
      "execution_count": 27,
      "outputs": [
        {
          "output_type": "execute_result",
          "data": {
            "text/plain": [
              "DecisionTreeRegressor(ccp_alpha=0.0, criterion='mse', max_depth=None,\n",
              "                      max_features=None, max_leaf_nodes=8,\n",
              "                      min_impurity_decrease=0.0, min_impurity_split=None,\n",
              "                      min_samples_leaf=1, min_samples_split=2,\n",
              "                      min_weight_fraction_leaf=0.0, presort='deprecated',\n",
              "                      random_state=None, splitter='best')"
            ]
          },
          "metadata": {
            "tags": []
          },
          "execution_count": 27
        }
      ]
    },
    {
      "cell_type": "code",
      "metadata": {
        "colab": {
          "base_uri": "https://localhost:8080/",
          "height": 520
        },
        "id": "98tTLh74NLJp",
        "outputId": "6d819a48-4d41-4b15-c1d9-a6637e07c717"
      },
      "source": [
        "from sklearn.tree import plot_tree\n",
        "plot_tree(tree1)"
      ],
      "execution_count": 28,
      "outputs": [
        {
          "output_type": "execute_result",
          "data": {
            "text/plain": [
              "[Text(83.7, 201.90857142857143, 'X[1] <= -1.817\\nmse = 0.25\\nsamples = 1000\\nvalue = 0.0'),\n",
              " Text(41.85, 170.84571428571428, 'mse = 0.03\\nsamples = 97\\nvalue = 0.466'),\n",
              " Text(125.55000000000001, 170.84571428571428, 'X[0] <= -1.96\\nmse = 0.248\\nsamples = 903\\nvalue = -0.05'),\n",
              " Text(83.7, 139.78285714285715, 'mse = 0.0\\nsamples = 75\\nvalue = 0.497'),\n",
              " Text(167.4, 139.78285714285715, 'X[0] <= 1.541\\nmse = 0.241\\nsamples = 828\\nvalue = -0.1'),\n",
              " Text(83.7, 108.72, 'X[1] <= 1.92\\nmse = 0.16\\nsamples = 391\\nvalue = -0.304'),\n",
              " Text(41.85, 77.65714285714284, 'mse = 0.062\\nsamples = 331\\nvalue = -0.437'),\n",
              " Text(125.55000000000001, 77.65714285714284, 'mse = 0.062\\nsamples = 60\\nvalue = 0.43'),\n",
              " Text(251.10000000000002, 108.72, 'X[1] <= 5.109\\nmse = 0.243\\nsamples = 437\\nvalue = 0.083'),\n",
              " Text(209.25, 77.65714285714284, 'X[0] <= 4.955\\nmse = 0.224\\nsamples = 388\\nvalue = 0.157'),\n",
              " Text(167.4, 46.59428571428572, 'X[0] <= 2.152\\nmse = 0.189\\nsamples = 339\\nvalue = 0.243'),\n",
              " Text(125.55000000000001, 15.531428571428563, 'mse = 0.25\\nsamples = 52\\nvalue = -0.003'),\n",
              " Text(209.25, 15.531428571428563, 'mse = 0.165\\nsamples = 287\\nvalue = 0.288'),\n",
              " Text(251.10000000000002, 46.59428571428572, 'mse = 0.057\\nsamples = 49\\nvalue = -0.442'),\n",
              " Text(292.95, 77.65714285714284, 'mse = 0.0\\nsamples = 49\\nvalue = -0.503')]"
            ]
          },
          "metadata": {
            "tags": []
          },
          "execution_count": 28
        },
        {
          "output_type": "display_data",
          "data": {
            "image/png": "[encoded data removed]",
            "text/plain": [
              "<Figure size 432x288 with 1 Axes>"
            ]
          },
          "metadata": {
            "tags": [],
            "needs_background": "light"
          }
        }
      ]
    },
    {
      "cell_type": "code",
      "metadata": {
        "colab": {
          "base_uri": "https://localhost:8080/",
          "height": 402
        },
        "id": "oVTzH-lyNgYr",
        "outputId": "7172035b-6190-499a-eba4-4a6d7c5c326a"
      },
      "source": [
        "df['leaf_index1'] = tree1.apply(df.iloc[:,0:2])\n",
        "df"
      ],
      "execution_count": 29,
      "outputs": [
        {
          "output_type": "execute_result",
          "data": {
            "text/html": [
              "<div>\n",
              "<style scoped>\n",
              "    .dataframe tbody tr th:only-of-type {\n",
              "        vertical-align: middle;\n",
              "    }\n",
              "\n",
              "    .dataframe tbody tr th {\n",
              "        vertical-align: top;\n",
              "    }\n",
              "\n",
              "    .dataframe thead th {\n",
              "        text-align: right;\n",
              "    }\n",
              "</style>\n",
              "<table border=\"1\" class=\"dataframe\">\n",
              "  <thead>\n",
              "    <tr style=\"text-align: right;\">\n",
              "      <th></th>\n",
              "      <th>0</th>\n",
              "      <th>1</th>\n",
              "      <th>y</th>\n",
              "      <th>pre1</th>\n",
              "      <th>res1</th>\n",
              "      <th>leaf_index1</th>\n",
              "    </tr>\n",
              "  </thead>\n",
              "  <tbody>\n",
              "    <tr>\n",
              "      <th>382</th>\n",
              "      <td>0.008258</td>\n",
              "      <td>0.959994</td>\n",
              "      <td>0</td>\n",
              "      <td>0.503</td>\n",
              "      <td>-0.503</td>\n",
              "      <td>7</td>\n",
              "    </tr>\n",
              "    <tr>\n",
              "      <th>611</th>\n",
              "      <td>-1.208642</td>\n",
              "      <td>-1.001690</td>\n",
              "      <td>0</td>\n",
              "      <td>0.503</td>\n",
              "      <td>-0.503</td>\n",
              "      <td>7</td>\n",
              "    </tr>\n",
              "    <tr>\n",
              "      <th>532</th>\n",
              "      <td>-2.018217</td>\n",
              "      <td>-0.736847</td>\n",
              "      <td>1</td>\n",
              "      <td>0.503</td>\n",
              "      <td>0.497</td>\n",
              "      <td>3</td>\n",
              "    </tr>\n",
              "    <tr>\n",
              "      <th>710</th>\n",
              "      <td>2.933763</td>\n",
              "      <td>0.340988</td>\n",
              "      <td>1</td>\n",
              "      <td>0.503</td>\n",
              "      <td>0.497</td>\n",
              "      <td>14</td>\n",
              "    </tr>\n",
              "    <tr>\n",
              "      <th>352</th>\n",
              "      <td>3.177824</td>\n",
              "      <td>0.977540</td>\n",
              "      <td>1</td>\n",
              "      <td>0.503</td>\n",
              "      <td>0.497</td>\n",
              "      <td>14</td>\n",
              "    </tr>\n",
              "    <tr>\n",
              "      <th>...</th>\n",
              "      <td>...</td>\n",
              "      <td>...</td>\n",
              "      <td>...</td>\n",
              "      <td>...</td>\n",
              "      <td>...</td>\n",
              "      <td>...</td>\n",
              "    </tr>\n",
              "    <tr>\n",
              "      <th>515</th>\n",
              "      <td>-0.723127</td>\n",
              "      <td>0.228254</td>\n",
              "      <td>0</td>\n",
              "      <td>0.503</td>\n",
              "      <td>-0.503</td>\n",
              "      <td>7</td>\n",
              "    </tr>\n",
              "    <tr>\n",
              "      <th>253</th>\n",
              "      <td>-0.963484</td>\n",
              "      <td>-4.504444</td>\n",
              "      <td>1</td>\n",
              "      <td>0.503</td>\n",
              "      <td>0.497</td>\n",
              "      <td>1</td>\n",
              "    </tr>\n",
              "    <tr>\n",
              "      <th>1249</th>\n",
              "      <td>3.436211</td>\n",
              "      <td>4.089686</td>\n",
              "      <td>1</td>\n",
              "      <td>0.503</td>\n",
              "      <td>0.497</td>\n",
              "      <td>14</td>\n",
              "    </tr>\n",
              "    <tr>\n",
              "      <th>372</th>\n",
              "      <td>1.764185</td>\n",
              "      <td>2.131389</td>\n",
              "      <td>1</td>\n",
              "      <td>0.503</td>\n",
              "      <td>0.497</td>\n",
              "      <td>13</td>\n",
              "    </tr>\n",
              "    <tr>\n",
              "      <th>381</th>\n",
              "      <td>1.106658</td>\n",
              "      <td>-0.806546</td>\n",
              "      <td>0</td>\n",
              "      <td>0.503</td>\n",
              "      <td>-0.503</td>\n",
              "      <td>7</td>\n",
              "    </tr>\n",
              "  </tbody>\n",
              "</table>\n",
              "<p>1000 rows × 6 columns</p>\n",
              "</div>"
            ],
            "text/plain": [
              "             0         1  y   pre1   res1  leaf_index1\n",
              "382   0.008258  0.959994  0  0.503 -0.503            7\n",
              "611  -1.208642 -1.001690  0  0.503 -0.503            7\n",
              "532  -2.018217 -0.736847  1  0.503  0.497            3\n",
              "710   2.933763  0.340988  1  0.503  0.497           14\n",
              "352   3.177824  0.977540  1  0.503  0.497           14\n",
              "...        ...       ... ..    ...    ...          ...\n",
              "515  -0.723127  0.228254  0  0.503 -0.503            7\n",
              "253  -0.963484 -4.504444  1  0.503  0.497            1\n",
              "1249  3.436211  4.089686  1  0.503  0.497           14\n",
              "372   1.764185  2.131389  1  0.503  0.497           13\n",
              "381   1.106658 -0.806546  0  0.503 -0.503            7\n",
              "\n",
              "[1000 rows x 6 columns]"
            ]
          },
          "metadata": {
            "tags": []
          },
          "execution_count": 29
        }
      ]
    },
    {
      "cell_type": "code",
      "metadata": {
        "colab": {
          "base_uri": "https://localhost:8080/"
        },
        "id": "hNpUzwnZPqBC",
        "outputId": "2fc6803f-92c5-4515-e2d1-becf266430a4"
      },
      "source": [
        "df['leaf_index1'].value_counts()"
      ],
      "execution_count": 30,
      "outputs": [
        {
          "output_type": "execute_result",
          "data": {
            "text/plain": [
              "7     331\n",
              "14    287\n",
              "1      97\n",
              "3      75\n",
              "8      60\n",
              "13     52\n",
              "12     49\n",
              "10     49\n",
              "Name: leaf_index1, dtype: int64"
            ]
          },
          "metadata": {
            "tags": []
          },
          "execution_count": 30
        }
      ]
    },
    {
      "cell_type": "code",
      "metadata": {
        "id": "6yDBwjzoP1ay"
      },
      "source": [
        "def return_logs(leaf):\n",
        "  \n",
        "  num = df[df['leaf_index1'] == leaf]['res1'].sum()\n",
        "  den = sum(df[df['leaf_index1'] == leaf]['pre1'] * (1 - df[df['leaf_index1'] == leaf]['pre1']))\n",
        "  return round(num/den,2)"
      ],
      "execution_count": 31,
      "outputs": []
    },
    {
      "cell_type": "code",
      "metadata": {
        "id": "n-ZC1TT0RBo4"
      },
      "source": [
        "df['log1'] = df['leaf_index1'].apply(return_logs)"
      ],
      "execution_count": 32,
      "outputs": []
    },
    {
      "cell_type": "code",
      "metadata": {
        "colab": {
          "base_uri": "https://localhost:8080/",
          "height": 402
        },
        "id": "zlFYrgP_RJBw",
        "outputId": "05d7f4a7-1cdb-4108-c8f3-9026378ed84b"
      },
      "source": [
        "df"
      ],
      "execution_count": 33,
      "outputs": [
        {
          "output_type": "execute_result",
          "data": {
            "text/html": [
              "<div>\n",
              "<style scoped>\n",
              "    .dataframe tbody tr th:only-of-type {\n",
              "        vertical-align: middle;\n",
              "    }\n",
              "\n",
              "    .dataframe tbody tr th {\n",
              "        vertical-align: top;\n",
              "    }\n",
              "\n",
              "    .dataframe thead th {\n",
              "        text-align: right;\n",
              "    }\n",
              "</style>\n",
              "<table border=\"1\" class=\"dataframe\">\n",
              "  <thead>\n",
              "    <tr style=\"text-align: right;\">\n",
              "      <th></th>\n",
              "      <th>0</th>\n",
              "      <th>1</th>\n",
              "      <th>y</th>\n",
              "      <th>pre1</th>\n",
              "      <th>res1</th>\n",
              "      <th>leaf_index1</th>\n",
              "      <th>log1</th>\n",
              "    </tr>\n",
              "  </thead>\n",
              "  <tbody>\n",
              "    <tr>\n",
              "      <th>382</th>\n",
              "      <td>0.008258</td>\n",
              "      <td>0.959994</td>\n",
              "      <td>0</td>\n",
              "      <td>0.503</td>\n",
              "      <td>-0.503</td>\n",
              "      <td>7</td>\n",
              "      <td>-1.75</td>\n",
              "    </tr>\n",
              "    <tr>\n",
              "      <th>611</th>\n",
              "      <td>-1.208642</td>\n",
              "      <td>-1.001690</td>\n",
              "      <td>0</td>\n",
              "      <td>0.503</td>\n",
              "      <td>-0.503</td>\n",
              "      <td>7</td>\n",
              "      <td>-1.75</td>\n",
              "    </tr>\n",
              "    <tr>\n",
              "      <th>532</th>\n",
              "      <td>-2.018217</td>\n",
              "      <td>-0.736847</td>\n",
              "      <td>1</td>\n",
              "      <td>0.503</td>\n",
              "      <td>0.497</td>\n",
              "      <td>3</td>\n",
              "      <td>1.99</td>\n",
              "    </tr>\n",
              "    <tr>\n",
              "      <th>710</th>\n",
              "      <td>2.933763</td>\n",
              "      <td>0.340988</td>\n",
              "      <td>1</td>\n",
              "      <td>0.503</td>\n",
              "      <td>0.497</td>\n",
              "      <td>14</td>\n",
              "      <td>1.15</td>\n",
              "    </tr>\n",
              "    <tr>\n",
              "      <th>352</th>\n",
              "      <td>3.177824</td>\n",
              "      <td>0.977540</td>\n",
              "      <td>1</td>\n",
              "      <td>0.503</td>\n",
              "      <td>0.497</td>\n",
              "      <td>14</td>\n",
              "      <td>1.15</td>\n",
              "    </tr>\n",
              "    <tr>\n",
              "      <th>...</th>\n",
              "      <td>...</td>\n",
              "      <td>...</td>\n",
              "      <td>...</td>\n",
              "      <td>...</td>\n",
              "      <td>...</td>\n",
              "      <td>...</td>\n",
              "      <td>...</td>\n",
              "    </tr>\n",
              "    <tr>\n",
              "      <th>515</th>\n",
              "      <td>-0.723127</td>\n",
              "      <td>0.228254</td>\n",
              "      <td>0</td>\n",
              "      <td>0.503</td>\n",
              "      <td>-0.503</td>\n",
              "      <td>7</td>\n",
              "      <td>-1.75</td>\n",
              "    </tr>\n",
              "    <tr>\n",
              "      <th>253</th>\n",
              "      <td>-0.963484</td>\n",
              "      <td>-4.504444</td>\n",
              "      <td>1</td>\n",
              "      <td>0.503</td>\n",
              "      <td>0.497</td>\n",
              "      <td>1</td>\n",
              "      <td>1.86</td>\n",
              "    </tr>\n",
              "    <tr>\n",
              "      <th>1249</th>\n",
              "      <td>3.436211</td>\n",
              "      <td>4.089686</td>\n",
              "      <td>1</td>\n",
              "      <td>0.503</td>\n",
              "      <td>0.497</td>\n",
              "      <td>14</td>\n",
              "      <td>1.15</td>\n",
              "    </tr>\n",
              "    <tr>\n",
              "      <th>372</th>\n",
              "      <td>1.764185</td>\n",
              "      <td>2.131389</td>\n",
              "      <td>1</td>\n",
              "      <td>0.503</td>\n",
              "      <td>0.497</td>\n",
              "      <td>13</td>\n",
              "      <td>-0.01</td>\n",
              "    </tr>\n",
              "    <tr>\n",
              "      <th>381</th>\n",
              "      <td>1.106658</td>\n",
              "      <td>-0.806546</td>\n",
              "      <td>0</td>\n",
              "      <td>0.503</td>\n",
              "      <td>-0.503</td>\n",
              "      <td>7</td>\n",
              "      <td>-1.75</td>\n",
              "    </tr>\n",
              "  </tbody>\n",
              "</table>\n",
              "<p>1000 rows × 7 columns</p>\n",
              "</div>"
            ],
            "text/plain": [
              "             0         1  y   pre1   res1  leaf_index1  log1\n",
              "382   0.008258  0.959994  0  0.503 -0.503            7 -1.75\n",
              "611  -1.208642 -1.001690  0  0.503 -0.503            7 -1.75\n",
              "532  -2.018217 -0.736847  1  0.503  0.497            3  1.99\n",
              "710   2.933763  0.340988  1  0.503  0.497           14  1.15\n",
              "352   3.177824  0.977540  1  0.503  0.497           14  1.15\n",
              "...        ...       ... ..    ...    ...          ...   ...\n",
              "515  -0.723127  0.228254  0  0.503 -0.503            7 -1.75\n",
              "253  -0.963484 -4.504444  1  0.503  0.497            1  1.86\n",
              "1249  3.436211  4.089686  1  0.503  0.497           14  1.15\n",
              "372   1.764185  2.131389  1  0.503  0.497           13 -0.01\n",
              "381   1.106658 -0.806546  0  0.503 -0.503            7 -1.75\n",
              "\n",
              "[1000 rows x 7 columns]"
            ]
          },
          "metadata": {
            "tags": []
          },
          "execution_count": 33
        }
      ]
    },
    {
      "cell_type": "markdown",
      "metadata": {
        "id": "Iwic8njqRptC"
      },
      "source": [
        "**Step 4 : Calculate second prediction 'pre2'**"
      ]
    },
    {
      "cell_type": "markdown",
      "metadata": {
        "id": "m-tkhsrqR1Lc"
      },
      "source": [
        "Learning rate = 1"
      ]
    },
    {
      "cell_type": "code",
      "metadata": {
        "id": "4dIpxvH_RK7Q"
      },
      "source": [
        "df['pre2'] = 0.012 + df['log1']"
      ],
      "execution_count": 36,
      "outputs": []
    },
    {
      "cell_type": "code",
      "metadata": {
        "colab": {
          "base_uri": "https://localhost:8080/",
          "height": 402
        },
        "id": "lPch1iUhR6i-",
        "outputId": "2a362c72-4ae7-48b9-f8a2-b10289d4ab6a"
      },
      "source": [
        "df"
      ],
      "execution_count": 37,
      "outputs": [
        {
          "output_type": "execute_result",
          "data": {
            "text/html": [
              "<div>\n",
              "<style scoped>\n",
              "    .dataframe tbody tr th:only-of-type {\n",
              "        vertical-align: middle;\n",
              "    }\n",
              "\n",
              "    .dataframe tbody tr th {\n",
              "        vertical-align: top;\n",
              "    }\n",
              "\n",
              "    .dataframe thead th {\n",
              "        text-align: right;\n",
              "    }\n",
              "</style>\n",
              "<table border=\"1\" class=\"dataframe\">\n",
              "  <thead>\n",
              "    <tr style=\"text-align: right;\">\n",
              "      <th></th>\n",
              "      <th>0</th>\n",
              "      <th>1</th>\n",
              "      <th>y</th>\n",
              "      <th>pre1</th>\n",
              "      <th>res1</th>\n",
              "      <th>leaf_index1</th>\n",
              "      <th>log1</th>\n",
              "      <th>pre2</th>\n",
              "    </tr>\n",
              "  </thead>\n",
              "  <tbody>\n",
              "    <tr>\n",
              "      <th>382</th>\n",
              "      <td>0.008258</td>\n",
              "      <td>0.959994</td>\n",
              "      <td>0</td>\n",
              "      <td>0.503</td>\n",
              "      <td>-0.503</td>\n",
              "      <td>7</td>\n",
              "      <td>-1.75</td>\n",
              "      <td>-1.738</td>\n",
              "    </tr>\n",
              "    <tr>\n",
              "      <th>611</th>\n",
              "      <td>-1.208642</td>\n",
              "      <td>-1.001690</td>\n",
              "      <td>0</td>\n",
              "      <td>0.503</td>\n",
              "      <td>-0.503</td>\n",
              "      <td>7</td>\n",
              "      <td>-1.75</td>\n",
              "      <td>-1.738</td>\n",
              "    </tr>\n",
              "    <tr>\n",
              "      <th>532</th>\n",
              "      <td>-2.018217</td>\n",
              "      <td>-0.736847</td>\n",
              "      <td>1</td>\n",
              "      <td>0.503</td>\n",
              "      <td>0.497</td>\n",
              "      <td>3</td>\n",
              "      <td>1.99</td>\n",
              "      <td>2.002</td>\n",
              "    </tr>\n",
              "    <tr>\n",
              "      <th>710</th>\n",
              "      <td>2.933763</td>\n",
              "      <td>0.340988</td>\n",
              "      <td>1</td>\n",
              "      <td>0.503</td>\n",
              "      <td>0.497</td>\n",
              "      <td>14</td>\n",
              "      <td>1.15</td>\n",
              "      <td>1.162</td>\n",
              "    </tr>\n",
              "    <tr>\n",
              "      <th>352</th>\n",
              "      <td>3.177824</td>\n",
              "      <td>0.977540</td>\n",
              "      <td>1</td>\n",
              "      <td>0.503</td>\n",
              "      <td>0.497</td>\n",
              "      <td>14</td>\n",
              "      <td>1.15</td>\n",
              "      <td>1.162</td>\n",
              "    </tr>\n",
              "    <tr>\n",
              "      <th>...</th>\n",
              "      <td>...</td>\n",
              "      <td>...</td>\n",
              "      <td>...</td>\n",
              "      <td>...</td>\n",
              "      <td>...</td>\n",
              "      <td>...</td>\n",
              "      <td>...</td>\n",
              "      <td>...</td>\n",
              "    </tr>\n",
              "    <tr>\n",
              "      <th>515</th>\n",
              "      <td>-0.723127</td>\n",
              "      <td>0.228254</td>\n",
              "      <td>0</td>\n",
              "      <td>0.503</td>\n",
              "      <td>-0.503</td>\n",
              "      <td>7</td>\n",
              "      <td>-1.75</td>\n",
              "      <td>-1.738</td>\n",
              "    </tr>\n",
              "    <tr>\n",
              "      <th>253</th>\n",
              "      <td>-0.963484</td>\n",
              "      <td>-4.504444</td>\n",
              "      <td>1</td>\n",
              "      <td>0.503</td>\n",
              "      <td>0.497</td>\n",
              "      <td>1</td>\n",
              "      <td>1.86</td>\n",
              "      <td>1.872</td>\n",
              "    </tr>\n",
              "    <tr>\n",
              "      <th>1249</th>\n",
              "      <td>3.436211</td>\n",
              "      <td>4.089686</td>\n",
              "      <td>1</td>\n",
              "      <td>0.503</td>\n",
              "      <td>0.497</td>\n",
              "      <td>14</td>\n",
              "      <td>1.15</td>\n",
              "      <td>1.162</td>\n",
              "    </tr>\n",
              "    <tr>\n",
              "      <th>372</th>\n",
              "      <td>1.764185</td>\n",
              "      <td>2.131389</td>\n",
              "      <td>1</td>\n",
              "      <td>0.503</td>\n",
              "      <td>0.497</td>\n",
              "      <td>13</td>\n",
              "      <td>-0.01</td>\n",
              "      <td>0.002</td>\n",
              "    </tr>\n",
              "    <tr>\n",
              "      <th>381</th>\n",
              "      <td>1.106658</td>\n",
              "      <td>-0.806546</td>\n",
              "      <td>0</td>\n",
              "      <td>0.503</td>\n",
              "      <td>-0.503</td>\n",
              "      <td>7</td>\n",
              "      <td>-1.75</td>\n",
              "      <td>-1.738</td>\n",
              "    </tr>\n",
              "  </tbody>\n",
              "</table>\n",
              "<p>1000 rows × 8 columns</p>\n",
              "</div>"
            ],
            "text/plain": [
              "             0         1  y   pre1   res1  leaf_index1  log1   pre2\n",
              "382   0.008258  0.959994  0  0.503 -0.503            7 -1.75 -1.738\n",
              "611  -1.208642 -1.001690  0  0.503 -0.503            7 -1.75 -1.738\n",
              "532  -2.018217 -0.736847  1  0.503  0.497            3  1.99  2.002\n",
              "710   2.933763  0.340988  1  0.503  0.497           14  1.15  1.162\n",
              "352   3.177824  0.977540  1  0.503  0.497           14  1.15  1.162\n",
              "...        ...       ... ..    ...    ...          ...   ...    ...\n",
              "515  -0.723127  0.228254  0  0.503 -0.503            7 -1.75 -1.738\n",
              "253  -0.963484 -4.504444  1  0.503  0.497            1  1.86  1.872\n",
              "1249  3.436211  4.089686  1  0.503  0.497           14  1.15  1.162\n",
              "372   1.764185  2.131389  1  0.503  0.497           13 -0.01  0.002\n",
              "381   1.106658 -0.806546  0  0.503 -0.503            7 -1.75 -1.738\n",
              "\n",
              "[1000 rows x 8 columns]"
            ]
          },
          "metadata": {
            "tags": []
          },
          "execution_count": 37
        }
      ]
    },
    {
      "cell_type": "markdown",
      "metadata": {
        "id": "IOuaMvo8SQd6"
      },
      "source": [
        "**Converting log(odds) to probability**"
      ]
    },
    {
      "cell_type": "code",
      "metadata": {
        "id": "UUF5OTv3R7D9"
      },
      "source": [
        "df['pre2'] = np.exp(df['pre2'])/(1+np.exp(df['pre2']))"
      ],
      "execution_count": 38,
      "outputs": []
    },
    {
      "cell_type": "code",
      "metadata": {
        "colab": {
          "base_uri": "https://localhost:8080/",
          "height": 402
        },
        "id": "ZZDnnTnNSu97",
        "outputId": "f07bea0d-5ee9-4d66-cad1-aa2838b6cbd0"
      },
      "source": [
        "df"
      ],
      "execution_count": 39,
      "outputs": [
        {
          "output_type": "execute_result",
          "data": {
            "text/html": [
              "<div>\n",
              "<style scoped>\n",
              "    .dataframe tbody tr th:only-of-type {\n",
              "        vertical-align: middle;\n",
              "    }\n",
              "\n",
              "    .dataframe tbody tr th {\n",
              "        vertical-align: top;\n",
              "    }\n",
              "\n",
              "    .dataframe thead th {\n",
              "        text-align: right;\n",
              "    }\n",
              "</style>\n",
              "<table border=\"1\" class=\"dataframe\">\n",
              "  <thead>\n",
              "    <tr style=\"text-align: right;\">\n",
              "      <th></th>\n",
              "      <th>0</th>\n",
              "      <th>1</th>\n",
              "      <th>y</th>\n",
              "      <th>pre1</th>\n",
              "      <th>res1</th>\n",
              "      <th>leaf_index1</th>\n",
              "      <th>log1</th>\n",
              "      <th>pre2</th>\n",
              "    </tr>\n",
              "  </thead>\n",
              "  <tbody>\n",
              "    <tr>\n",
              "      <th>382</th>\n",
              "      <td>0.008258</td>\n",
              "      <td>0.959994</td>\n",
              "      <td>0</td>\n",
              "      <td>0.503</td>\n",
              "      <td>-0.503</td>\n",
              "      <td>7</td>\n",
              "      <td>-1.75</td>\n",
              "      <td>0.149567</td>\n",
              "    </tr>\n",
              "    <tr>\n",
              "      <th>611</th>\n",
              "      <td>-1.208642</td>\n",
              "      <td>-1.001690</td>\n",
              "      <td>0</td>\n",
              "      <td>0.503</td>\n",
              "      <td>-0.503</td>\n",
              "      <td>7</td>\n",
              "      <td>-1.75</td>\n",
              "      <td>0.149567</td>\n",
              "    </tr>\n",
              "    <tr>\n",
              "      <th>532</th>\n",
              "      <td>-2.018217</td>\n",
              "      <td>-0.736847</td>\n",
              "      <td>1</td>\n",
              "      <td>0.503</td>\n",
              "      <td>0.497</td>\n",
              "      <td>3</td>\n",
              "      <td>1.99</td>\n",
              "      <td>0.881007</td>\n",
              "    </tr>\n",
              "    <tr>\n",
              "      <th>710</th>\n",
              "      <td>2.933763</td>\n",
              "      <td>0.340988</td>\n",
              "      <td>1</td>\n",
              "      <td>0.503</td>\n",
              "      <td>0.497</td>\n",
              "      <td>14</td>\n",
              "      <td>1.15</td>\n",
              "      <td>0.761696</td>\n",
              "    </tr>\n",
              "    <tr>\n",
              "      <th>352</th>\n",
              "      <td>3.177824</td>\n",
              "      <td>0.977540</td>\n",
              "      <td>1</td>\n",
              "      <td>0.503</td>\n",
              "      <td>0.497</td>\n",
              "      <td>14</td>\n",
              "      <td>1.15</td>\n",
              "      <td>0.761696</td>\n",
              "    </tr>\n",
              "    <tr>\n",
              "      <th>...</th>\n",
              "      <td>...</td>\n",
              "      <td>...</td>\n",
              "      <td>...</td>\n",
              "      <td>...</td>\n",
              "      <td>...</td>\n",
              "      <td>...</td>\n",
              "      <td>...</td>\n",
              "      <td>...</td>\n",
              "    </tr>\n",
              "    <tr>\n",
              "      <th>515</th>\n",
              "      <td>-0.723127</td>\n",
              "      <td>0.228254</td>\n",
              "      <td>0</td>\n",
              "      <td>0.503</td>\n",
              "      <td>-0.503</td>\n",
              "      <td>7</td>\n",
              "      <td>-1.75</td>\n",
              "      <td>0.149567</td>\n",
              "    </tr>\n",
              "    <tr>\n",
              "      <th>253</th>\n",
              "      <td>-0.963484</td>\n",
              "      <td>-4.504444</td>\n",
              "      <td>1</td>\n",
              "      <td>0.503</td>\n",
              "      <td>0.497</td>\n",
              "      <td>1</td>\n",
              "      <td>1.86</td>\n",
              "      <td>0.866690</td>\n",
              "    </tr>\n",
              "    <tr>\n",
              "      <th>1249</th>\n",
              "      <td>3.436211</td>\n",
              "      <td>4.089686</td>\n",
              "      <td>1</td>\n",
              "      <td>0.503</td>\n",
              "      <td>0.497</td>\n",
              "      <td>14</td>\n",
              "      <td>1.15</td>\n",
              "      <td>0.761696</td>\n",
              "    </tr>\n",
              "    <tr>\n",
              "      <th>372</th>\n",
              "      <td>1.764185</td>\n",
              "      <td>2.131389</td>\n",
              "      <td>1</td>\n",
              "      <td>0.503</td>\n",
              "      <td>0.497</td>\n",
              "      <td>13</td>\n",
              "      <td>-0.01</td>\n",
              "      <td>0.500500</td>\n",
              "    </tr>\n",
              "    <tr>\n",
              "      <th>381</th>\n",
              "      <td>1.106658</td>\n",
              "      <td>-0.806546</td>\n",
              "      <td>0</td>\n",
              "      <td>0.503</td>\n",
              "      <td>-0.503</td>\n",
              "      <td>7</td>\n",
              "      <td>-1.75</td>\n",
              "      <td>0.149567</td>\n",
              "    </tr>\n",
              "  </tbody>\n",
              "</table>\n",
              "<p>1000 rows × 8 columns</p>\n",
              "</div>"
            ],
            "text/plain": [
              "             0         1  y   pre1   res1  leaf_index1  log1      pre2\n",
              "382   0.008258  0.959994  0  0.503 -0.503            7 -1.75  0.149567\n",
              "611  -1.208642 -1.001690  0  0.503 -0.503            7 -1.75  0.149567\n",
              "532  -2.018217 -0.736847  1  0.503  0.497            3  1.99  0.881007\n",
              "710   2.933763  0.340988  1  0.503  0.497           14  1.15  0.761696\n",
              "352   3.177824  0.977540  1  0.503  0.497           14  1.15  0.761696\n",
              "...        ...       ... ..    ...    ...          ...   ...       ...\n",
              "515  -0.723127  0.228254  0  0.503 -0.503            7 -1.75  0.149567\n",
              "253  -0.963484 -4.504444  1  0.503  0.497            1  1.86  0.866690\n",
              "1249  3.436211  4.089686  1  0.503  0.497           14  1.15  0.761696\n",
              "372   1.764185  2.131389  1  0.503  0.497           13 -0.01  0.500500\n",
              "381   1.106658 -0.806546  0  0.503 -0.503            7 -1.75  0.149567\n",
              "\n",
              "[1000 rows x 8 columns]"
            ]
          },
          "metadata": {
            "tags": []
          },
          "execution_count": 39
        }
      ]
    },
    {
      "cell_type": "markdown",
      "metadata": {
        "id": "L6dk3e8dSz9Z"
      },
      "source": [
        "**Step 5 : Calculate residual 'res2' for second prediction**"
      ]
    },
    {
      "cell_type": "code",
      "metadata": {
        "colab": {
          "base_uri": "https://localhost:8080/",
          "height": 402
        },
        "id": "WYbZ7E0bSvft",
        "outputId": "ba7b945c-25d5-4455-d28f-d9a32dacbd7a"
      },
      "source": [
        "df['res2'] = df['y'] - df['pre2']\n",
        "df"
      ],
      "execution_count": 40,
      "outputs": [
        {
          "output_type": "execute_result",
          "data": {
            "text/html": [
              "<div>\n",
              "<style scoped>\n",
              "    .dataframe tbody tr th:only-of-type {\n",
              "        vertical-align: middle;\n",
              "    }\n",
              "\n",
              "    .dataframe tbody tr th {\n",
              "        vertical-align: top;\n",
              "    }\n",
              "\n",
              "    .dataframe thead th {\n",
              "        text-align: right;\n",
              "    }\n",
              "</style>\n",
              "<table border=\"1\" class=\"dataframe\">\n",
              "  <thead>\n",
              "    <tr style=\"text-align: right;\">\n",
              "      <th></th>\n",
              "      <th>0</th>\n",
              "      <th>1</th>\n",
              "      <th>y</th>\n",
              "      <th>pre1</th>\n",
              "      <th>res1</th>\n",
              "      <th>leaf_index1</th>\n",
              "      <th>log1</th>\n",
              "      <th>pre2</th>\n",
              "      <th>res2</th>\n",
              "    </tr>\n",
              "  </thead>\n",
              "  <tbody>\n",
              "    <tr>\n",
              "      <th>382</th>\n",
              "      <td>0.008258</td>\n",
              "      <td>0.959994</td>\n",
              "      <td>0</td>\n",
              "      <td>0.503</td>\n",
              "      <td>-0.503</td>\n",
              "      <td>7</td>\n",
              "      <td>-1.75</td>\n",
              "      <td>0.149567</td>\n",
              "      <td>-0.149567</td>\n",
              "    </tr>\n",
              "    <tr>\n",
              "      <th>611</th>\n",
              "      <td>-1.208642</td>\n",
              "      <td>-1.001690</td>\n",
              "      <td>0</td>\n",
              "      <td>0.503</td>\n",
              "      <td>-0.503</td>\n",
              "      <td>7</td>\n",
              "      <td>-1.75</td>\n",
              "      <td>0.149567</td>\n",
              "      <td>-0.149567</td>\n",
              "    </tr>\n",
              "    <tr>\n",
              "      <th>532</th>\n",
              "      <td>-2.018217</td>\n",
              "      <td>-0.736847</td>\n",
              "      <td>1</td>\n",
              "      <td>0.503</td>\n",
              "      <td>0.497</td>\n",
              "      <td>3</td>\n",
              "      <td>1.99</td>\n",
              "      <td>0.881007</td>\n",
              "      <td>0.118993</td>\n",
              "    </tr>\n",
              "    <tr>\n",
              "      <th>710</th>\n",
              "      <td>2.933763</td>\n",
              "      <td>0.340988</td>\n",
              "      <td>1</td>\n",
              "      <td>0.503</td>\n",
              "      <td>0.497</td>\n",
              "      <td>14</td>\n",
              "      <td>1.15</td>\n",
              "      <td>0.761696</td>\n",
              "      <td>0.238304</td>\n",
              "    </tr>\n",
              "    <tr>\n",
              "      <th>352</th>\n",
              "      <td>3.177824</td>\n",
              "      <td>0.977540</td>\n",
              "      <td>1</td>\n",
              "      <td>0.503</td>\n",
              "      <td>0.497</td>\n",
              "      <td>14</td>\n",
              "      <td>1.15</td>\n",
              "      <td>0.761696</td>\n",
              "      <td>0.238304</td>\n",
              "    </tr>\n",
              "    <tr>\n",
              "      <th>...</th>\n",
              "      <td>...</td>\n",
              "      <td>...</td>\n",
              "      <td>...</td>\n",
              "      <td>...</td>\n",
              "      <td>...</td>\n",
              "      <td>...</td>\n",
              "      <td>...</td>\n",
              "      <td>...</td>\n",
              "      <td>...</td>\n",
              "    </tr>\n",
              "    <tr>\n",
              "      <th>515</th>\n",
              "      <td>-0.723127</td>\n",
              "      <td>0.228254</td>\n",
              "      <td>0</td>\n",
              "      <td>0.503</td>\n",
              "      <td>-0.503</td>\n",
              "      <td>7</td>\n",
              "      <td>-1.75</td>\n",
              "      <td>0.149567</td>\n",
              "      <td>-0.149567</td>\n",
              "    </tr>\n",
              "    <tr>\n",
              "      <th>253</th>\n",
              "      <td>-0.963484</td>\n",
              "      <td>-4.504444</td>\n",
              "      <td>1</td>\n",
              "      <td>0.503</td>\n",
              "      <td>0.497</td>\n",
              "      <td>1</td>\n",
              "      <td>1.86</td>\n",
              "      <td>0.866690</td>\n",
              "      <td>0.133310</td>\n",
              "    </tr>\n",
              "    <tr>\n",
              "      <th>1249</th>\n",
              "      <td>3.436211</td>\n",
              "      <td>4.089686</td>\n",
              "      <td>1</td>\n",
              "      <td>0.503</td>\n",
              "      <td>0.497</td>\n",
              "      <td>14</td>\n",
              "      <td>1.15</td>\n",
              "      <td>0.761696</td>\n",
              "      <td>0.238304</td>\n",
              "    </tr>\n",
              "    <tr>\n",
              "      <th>372</th>\n",
              "      <td>1.764185</td>\n",
              "      <td>2.131389</td>\n",
              "      <td>1</td>\n",
              "      <td>0.503</td>\n",
              "      <td>0.497</td>\n",
              "      <td>13</td>\n",
              "      <td>-0.01</td>\n",
              "      <td>0.500500</td>\n",
              "      <td>0.499500</td>\n",
              "    </tr>\n",
              "    <tr>\n",
              "      <th>381</th>\n",
              "      <td>1.106658</td>\n",
              "      <td>-0.806546</td>\n",
              "      <td>0</td>\n",
              "      <td>0.503</td>\n",
              "      <td>-0.503</td>\n",
              "      <td>7</td>\n",
              "      <td>-1.75</td>\n",
              "      <td>0.149567</td>\n",
              "      <td>-0.149567</td>\n",
              "    </tr>\n",
              "  </tbody>\n",
              "</table>\n",
              "<p>1000 rows × 9 columns</p>\n",
              "</div>"
            ],
            "text/plain": [
              "             0         1  y   pre1  ...  leaf_index1  log1      pre2      res2\n",
              "382   0.008258  0.959994  0  0.503  ...            7 -1.75  0.149567 -0.149567\n",
              "611  -1.208642 -1.001690  0  0.503  ...            7 -1.75  0.149567 -0.149567\n",
              "532  -2.018217 -0.736847  1  0.503  ...            3  1.99  0.881007  0.118993\n",
              "710   2.933763  0.340988  1  0.503  ...           14  1.15  0.761696  0.238304\n",
              "352   3.177824  0.977540  1  0.503  ...           14  1.15  0.761696  0.238304\n",
              "...        ...       ... ..    ...  ...          ...   ...       ...       ...\n",
              "515  -0.723127  0.228254  0  0.503  ...            7 -1.75  0.149567 -0.149567\n",
              "253  -0.963484 -4.504444  1  0.503  ...            1  1.86  0.866690  0.133310\n",
              "1249  3.436211  4.089686  1  0.503  ...           14  1.15  0.761696  0.238304\n",
              "372   1.764185  2.131389  1  0.503  ...           13 -0.01  0.500500  0.499500\n",
              "381   1.106658 -0.806546  0  0.503  ...            7 -1.75  0.149567 -0.149567\n",
              "\n",
              "[1000 rows x 9 columns]"
            ]
          },
          "metadata": {
            "tags": []
          },
          "execution_count": 40
        }
      ]
    }
  ]
}